{
  "nbformat": 4,
  "nbformat_minor": 0,
  "metadata": {
    "colab": {
      "provenance": []
    },
    "kernelspec": {
      "name": "python3",
      "display_name": "Python 3"
    },
    "language_info": {
      "name": "python"
    }
  },
  "cells": [
    {
      "cell_type": "code",
      "execution_count": 47,
      "metadata": {
        "id": "W5ppIE_7ZUMJ"
      },
      "outputs": [],
      "source": [
        "import pandas as pd\n",
        "import numpy as np\n",
        "from collections import defaultdict"
      ]
    },
    {
      "cell_type": "code",
      "source": [
        "# UCSD Dyad downloaded as CSV\n",
        "# Adjust path as needed\n",
        "dyad = pd.read_csv(\"/content/dyad.csv\")"
      ],
      "metadata": {
        "id": "2GeSDeSCZcy6"
      },
      "execution_count": 48,
      "outputs": []
    },
    {
      "cell_type": "code",
      "source": [
        "'''\n",
        "Query:\n",
        "\n",
        "SELECT\n",
        "id,\n",
        "SUBSTRING(parent_id,4) as post_id,\n",
        "permalink as post_link\n",
        "FROM `gcp-toxic-behavior.reddit_anti_abuse.UCSD`\n",
        "WHERE parent_id LIKE 't3_%';\n",
        "'''\n",
        "# Table of all comments whose parent is the post, downloaded as CSV\n",
        "# Adjust path as needed\n",
        "parents = pd.read_csv(\"/content/posts.csv\", names=[\"id\",\"post\",\"link\"])\n",
        "parents = parents.iloc[1:]"
      ],
      "metadata": {
        "id": "FxpJOO_rjcHQ"
      },
      "execution_count": 49,
      "outputs": []
    },
    {
      "cell_type": "code",
      "source": [
        "dyad.head()"
      ],
      "metadata": {
        "colab": {
          "base_uri": "https://localhost:8080/",
          "height": 206
        },
        "id": "9S2xNL31ZkuJ",
        "outputId": "a762c91d-f70b-4bc1-e5d8-539b71f94110"
      },
      "execution_count": 50,
      "outputs": [
        {
          "output_type": "execute_result",
          "data": {
            "text/plain": [
              "  parent_id                                     parent_content child_id  \\\n",
              "0   fcoq5mb  I’m pretty sure I have heard of them accepting...  fcoud8c   \n",
              "1   fcovsx7  FYI I emailed them to get a voucher last quart...  fcowzcq   \n",
              "2   fcozrto  Stats is much more employable, pure math sorta...  fcozvy8   \n",
              "3   fcozvy8  Gotcha.  I guess I look at it this way...if yo...  fcp01am   \n",
              "4   fcp01am  This is what I needed to hear. Thank you kind ...  fcp2yr0   \n",
              "\n",
              "                                       child_content  \n",
              "0                        Ty I’ll try waiving with it  \n",
              "1           u gotta go in to college advising office  \n",
              "2  Gotcha.  I guess I look at it this way...if yo...  \n",
              "3  This is what I needed to hear. Thank you kind ...  \n",
              "4  Of course! Happy new year!\\n\\nAlso yeah, that ...  "
            ],
            "text/html": [
              "\n",
              "  <div id=\"df-299389b6-abd6-427b-8ea6-68a226ad7974\" class=\"colab-df-container\">\n",
              "    <div>\n",
              "<style scoped>\n",
              "    .dataframe tbody tr th:only-of-type {\n",
              "        vertical-align: middle;\n",
              "    }\n",
              "\n",
              "    .dataframe tbody tr th {\n",
              "        vertical-align: top;\n",
              "    }\n",
              "\n",
              "    .dataframe thead th {\n",
              "        text-align: right;\n",
              "    }\n",
              "</style>\n",
              "<table border=\"1\" class=\"dataframe\">\n",
              "  <thead>\n",
              "    <tr style=\"text-align: right;\">\n",
              "      <th></th>\n",
              "      <th>parent_id</th>\n",
              "      <th>parent_content</th>\n",
              "      <th>child_id</th>\n",
              "      <th>child_content</th>\n",
              "    </tr>\n",
              "  </thead>\n",
              "  <tbody>\n",
              "    <tr>\n",
              "      <th>0</th>\n",
              "      <td>fcoq5mb</td>\n",
              "      <td>I’m pretty sure I have heard of them accepting...</td>\n",
              "      <td>fcoud8c</td>\n",
              "      <td>Ty I’ll try waiving with it</td>\n",
              "    </tr>\n",
              "    <tr>\n",
              "      <th>1</th>\n",
              "      <td>fcovsx7</td>\n",
              "      <td>FYI I emailed them to get a voucher last quart...</td>\n",
              "      <td>fcowzcq</td>\n",
              "      <td>u gotta go in to college advising office</td>\n",
              "    </tr>\n",
              "    <tr>\n",
              "      <th>2</th>\n",
              "      <td>fcozrto</td>\n",
              "      <td>Stats is much more employable, pure math sorta...</td>\n",
              "      <td>fcozvy8</td>\n",
              "      <td>Gotcha.  I guess I look at it this way...if yo...</td>\n",
              "    </tr>\n",
              "    <tr>\n",
              "      <th>3</th>\n",
              "      <td>fcozvy8</td>\n",
              "      <td>Gotcha.  I guess I look at it this way...if yo...</td>\n",
              "      <td>fcp01am</td>\n",
              "      <td>This is what I needed to hear. Thank you kind ...</td>\n",
              "    </tr>\n",
              "    <tr>\n",
              "      <th>4</th>\n",
              "      <td>fcp01am</td>\n",
              "      <td>This is what I needed to hear. Thank you kind ...</td>\n",
              "      <td>fcp2yr0</td>\n",
              "      <td>Of course! Happy new year!\\n\\nAlso yeah, that ...</td>\n",
              "    </tr>\n",
              "  </tbody>\n",
              "</table>\n",
              "</div>\n",
              "    <div class=\"colab-df-buttons\">\n",
              "\n",
              "  <div class=\"colab-df-container\">\n",
              "    <button class=\"colab-df-convert\" onclick=\"convertToInteractive('df-299389b6-abd6-427b-8ea6-68a226ad7974')\"\n",
              "            title=\"Convert this dataframe to an interactive table.\"\n",
              "            style=\"display:none;\">\n",
              "\n",
              "  <svg xmlns=\"http://www.w3.org/2000/svg\" height=\"24px\" viewBox=\"0 -960 960 960\">\n",
              "    <path d=\"M120-120v-720h720v720H120Zm60-500h600v-160H180v160Zm220 220h160v-160H400v160Zm0 220h160v-160H400v160ZM180-400h160v-160H180v160Zm440 0h160v-160H620v160ZM180-180h160v-160H180v160Zm440 0h160v-160H620v160Z\"/>\n",
              "  </svg>\n",
              "    </button>\n",
              "\n",
              "  <style>\n",
              "    .colab-df-container {\n",
              "      display:flex;\n",
              "      gap: 12px;\n",
              "    }\n",
              "\n",
              "    .colab-df-convert {\n",
              "      background-color: #E8F0FE;\n",
              "      border: none;\n",
              "      border-radius: 50%;\n",
              "      cursor: pointer;\n",
              "      display: none;\n",
              "      fill: #1967D2;\n",
              "      height: 32px;\n",
              "      padding: 0 0 0 0;\n",
              "      width: 32px;\n",
              "    }\n",
              "\n",
              "    .colab-df-convert:hover {\n",
              "      background-color: #E2EBFA;\n",
              "      box-shadow: 0px 1px 2px rgba(60, 64, 67, 0.3), 0px 1px 3px 1px rgba(60, 64, 67, 0.15);\n",
              "      fill: #174EA6;\n",
              "    }\n",
              "\n",
              "    .colab-df-buttons div {\n",
              "      margin-bottom: 4px;\n",
              "    }\n",
              "\n",
              "    [theme=dark] .colab-df-convert {\n",
              "      background-color: #3B4455;\n",
              "      fill: #D2E3FC;\n",
              "    }\n",
              "\n",
              "    [theme=dark] .colab-df-convert:hover {\n",
              "      background-color: #434B5C;\n",
              "      box-shadow: 0px 1px 3px 1px rgba(0, 0, 0, 0.15);\n",
              "      filter: drop-shadow(0px 1px 2px rgba(0, 0, 0, 0.3));\n",
              "      fill: #FFFFFF;\n",
              "    }\n",
              "  </style>\n",
              "\n",
              "    <script>\n",
              "      const buttonEl =\n",
              "        document.querySelector('#df-299389b6-abd6-427b-8ea6-68a226ad7974 button.colab-df-convert');\n",
              "      buttonEl.style.display =\n",
              "        google.colab.kernel.accessAllowed ? 'block' : 'none';\n",
              "\n",
              "      async function convertToInteractive(key) {\n",
              "        const element = document.querySelector('#df-299389b6-abd6-427b-8ea6-68a226ad7974');\n",
              "        const dataTable =\n",
              "          await google.colab.kernel.invokeFunction('convertToInteractive',\n",
              "                                                    [key], {});\n",
              "        if (!dataTable) return;\n",
              "\n",
              "        const docLinkHtml = 'Like what you see? Visit the ' +\n",
              "          '<a target=\"_blank\" href=https://colab.research.google.com/notebooks/data_table.ipynb>data table notebook</a>'\n",
              "          + ' to learn more about interactive tables.';\n",
              "        element.innerHTML = '';\n",
              "        dataTable['output_type'] = 'display_data';\n",
              "        await google.colab.output.renderOutput(dataTable, element);\n",
              "        const docLink = document.createElement('div');\n",
              "        docLink.innerHTML = docLinkHtml;\n",
              "        element.appendChild(docLink);\n",
              "      }\n",
              "    </script>\n",
              "  </div>\n",
              "\n",
              "\n",
              "<div id=\"df-84ff294b-1d46-478f-b580-89063de30fb5\">\n",
              "  <button class=\"colab-df-quickchart\" onclick=\"quickchart('df-84ff294b-1d46-478f-b580-89063de30fb5')\"\n",
              "            title=\"Suggest charts\"\n",
              "            style=\"display:none;\">\n",
              "\n",
              "<svg xmlns=\"http://www.w3.org/2000/svg\" height=\"24px\"viewBox=\"0 0 24 24\"\n",
              "     width=\"24px\">\n",
              "    <g>\n",
              "        <path d=\"M19 3H5c-1.1 0-2 .9-2 2v14c0 1.1.9 2 2 2h14c1.1 0 2-.9 2-2V5c0-1.1-.9-2-2-2zM9 17H7v-7h2v7zm4 0h-2V7h2v10zm4 0h-2v-4h2v4z\"/>\n",
              "    </g>\n",
              "</svg>\n",
              "  </button>\n",
              "\n",
              "<style>\n",
              "  .colab-df-quickchart {\n",
              "      --bg-color: #E8F0FE;\n",
              "      --fill-color: #1967D2;\n",
              "      --hover-bg-color: #E2EBFA;\n",
              "      --hover-fill-color: #174EA6;\n",
              "      --disabled-fill-color: #AAA;\n",
              "      --disabled-bg-color: #DDD;\n",
              "  }\n",
              "\n",
              "  [theme=dark] .colab-df-quickchart {\n",
              "      --bg-color: #3B4455;\n",
              "      --fill-color: #D2E3FC;\n",
              "      --hover-bg-color: #434B5C;\n",
              "      --hover-fill-color: #FFFFFF;\n",
              "      --disabled-bg-color: #3B4455;\n",
              "      --disabled-fill-color: #666;\n",
              "  }\n",
              "\n",
              "  .colab-df-quickchart {\n",
              "    background-color: var(--bg-color);\n",
              "    border: none;\n",
              "    border-radius: 50%;\n",
              "    cursor: pointer;\n",
              "    display: none;\n",
              "    fill: var(--fill-color);\n",
              "    height: 32px;\n",
              "    padding: 0;\n",
              "    width: 32px;\n",
              "  }\n",
              "\n",
              "  .colab-df-quickchart:hover {\n",
              "    background-color: var(--hover-bg-color);\n",
              "    box-shadow: 0 1px 2px rgba(60, 64, 67, 0.3), 0 1px 3px 1px rgba(60, 64, 67, 0.15);\n",
              "    fill: var(--button-hover-fill-color);\n",
              "  }\n",
              "\n",
              "  .colab-df-quickchart-complete:disabled,\n",
              "  .colab-df-quickchart-complete:disabled:hover {\n",
              "    background-color: var(--disabled-bg-color);\n",
              "    fill: var(--disabled-fill-color);\n",
              "    box-shadow: none;\n",
              "  }\n",
              "\n",
              "  .colab-df-spinner {\n",
              "    border: 2px solid var(--fill-color);\n",
              "    border-color: transparent;\n",
              "    border-bottom-color: var(--fill-color);\n",
              "    animation:\n",
              "      spin 1s steps(1) infinite;\n",
              "  }\n",
              "\n",
              "  @keyframes spin {\n",
              "    0% {\n",
              "      border-color: transparent;\n",
              "      border-bottom-color: var(--fill-color);\n",
              "      border-left-color: var(--fill-color);\n",
              "    }\n",
              "    20% {\n",
              "      border-color: transparent;\n",
              "      border-left-color: var(--fill-color);\n",
              "      border-top-color: var(--fill-color);\n",
              "    }\n",
              "    30% {\n",
              "      border-color: transparent;\n",
              "      border-left-color: var(--fill-color);\n",
              "      border-top-color: var(--fill-color);\n",
              "      border-right-color: var(--fill-color);\n",
              "    }\n",
              "    40% {\n",
              "      border-color: transparent;\n",
              "      border-right-color: var(--fill-color);\n",
              "      border-top-color: var(--fill-color);\n",
              "    }\n",
              "    60% {\n",
              "      border-color: transparent;\n",
              "      border-right-color: var(--fill-color);\n",
              "    }\n",
              "    80% {\n",
              "      border-color: transparent;\n",
              "      border-right-color: var(--fill-color);\n",
              "      border-bottom-color: var(--fill-color);\n",
              "    }\n",
              "    90% {\n",
              "      border-color: transparent;\n",
              "      border-bottom-color: var(--fill-color);\n",
              "    }\n",
              "  }\n",
              "</style>\n",
              "\n",
              "  <script>\n",
              "    async function quickchart(key) {\n",
              "      const quickchartButtonEl =\n",
              "        document.querySelector('#' + key + ' button');\n",
              "      quickchartButtonEl.disabled = true;  // To prevent multiple clicks.\n",
              "      quickchartButtonEl.classList.add('colab-df-spinner');\n",
              "      try {\n",
              "        const charts = await google.colab.kernel.invokeFunction(\n",
              "            'suggestCharts', [key], {});\n",
              "      } catch (error) {\n",
              "        console.error('Error during call to suggestCharts:', error);\n",
              "      }\n",
              "      quickchartButtonEl.classList.remove('colab-df-spinner');\n",
              "      quickchartButtonEl.classList.add('colab-df-quickchart-complete');\n",
              "    }\n",
              "    (() => {\n",
              "      let quickchartButtonEl =\n",
              "        document.querySelector('#df-84ff294b-1d46-478f-b580-89063de30fb5 button');\n",
              "      quickchartButtonEl.style.display =\n",
              "        google.colab.kernel.accessAllowed ? 'block' : 'none';\n",
              "    })();\n",
              "  </script>\n",
              "</div>\n",
              "\n",
              "    </div>\n",
              "  </div>\n"
            ],
            "application/vnd.google.colaboratory.intrinsic+json": {
              "type": "dataframe",
              "variable_name": "dyad",
              "summary": "{\n  \"name\": \"dyad\",\n  \"rows\": 500,\n  \"fields\": [\n    {\n      \"column\": \"parent_id\",\n      \"properties\": {\n        \"dtype\": \"string\",\n        \"num_unique_values\": 441,\n        \"samples\": [\n          \"fcw0gty\",\n          \"fdpf88r\",\n          \"fd75ojw\"\n        ],\n        \"semantic_type\": \"\",\n        \"description\": \"\"\n      }\n    },\n    {\n      \"column\": \"parent_content\",\n      \"properties\": {\n        \"dtype\": \"string\",\n        \"num_unique_values\": 437,\n        \"samples\": [\n          \"Thanks bro. This clears it up a lot. I had no clue what it was lol. Thanks again bro!!\",\n          \"Really? It can only help. It could really boost UCSD up to UCLA or better (you\\u2019re already better in a few cases). Tons of people don\\u2019t know how hard it is to get into UCLA or USC and just recognize them as good sports teams (or used to be good, at least). What really matters is the recognition unfortunately. Plus it could destroy the anti social part of UCSD, sports games are so fun!! It would also contribute a lot to a stronger alum base. Even when SDSU was a party school with a high admissions rate in the 90s, the alum base was incredibly strong bc of the atmosphere of the school.  Same with USC, a former playground for rich kids has one of the strongest alumni groups bc of their sports and their parties and the community that comes with it.\",\n          \"I figured as much. I was only curious because I know sometimes the due dates for each are typically announced in class and I know I will never be in class unless I have to turn in the copies in person. Thank you, I appreciate the response!\"\n        ],\n        \"semantic_type\": \"\",\n        \"description\": \"\"\n      }\n    },\n    {\n      \"column\": \"child_id\",\n      \"properties\": {\n        \"dtype\": \"string\",\n        \"num_unique_values\": 500,\n        \"samples\": [\n          \"fdh564c\",\n          \"fcvim0p\",\n          \"fdhojve\"\n        ],\n        \"semantic_type\": \"\",\n        \"description\": \"\"\n      }\n    },\n    {\n      \"column\": \"child_content\",\n      \"properties\": {\n        \"dtype\": \"string\",\n        \"num_unique_values\": 494,\n        \"samples\": [\n          \"Drug that has earned a reputation as both \\\"liquid ecstasy\\\" and a date rape drug. Hits primarily GABA-B receptors unlike benzos (xanax/valium/klonopin) which hit GABA-A primarily, and it leads to a sort of high that is reported to be sort of like a cross between being drunk and being on MDMA. Dosing for the high is usually 3ml-5ml, and 5ml+ doses have a good chance of leading to unconciousness (hence its use as a date rape drug), so watch your drink to make sure it's not getting spiked as alcohol + GHB can be potentially fatal...\",\n          \"r/legaladvice is alright, but take everything there with a grain of salt, they\\u2019ve been known for giving bad advice sometimes, just double check their answers.\",\n          \"I figured as much. I was only curious because I know sometimes the due dates for each are typically announced in class and I know I will never be in class unless I have to turn in the copies in person. Thank you, I appreciate the response!\"\n        ],\n        \"semantic_type\": \"\",\n        \"description\": \"\"\n      }\n    }\n  ]\n}"
            }
          },
          "metadata": {},
          "execution_count": 50
        }
      ]
    },
    {
      "cell_type": "code",
      "source": [
        "parents.head()"
      ],
      "metadata": {
        "colab": {
          "base_uri": "https://localhost:8080/",
          "height": 206
        },
        "id": "tXddWld3jugj",
        "outputId": "c3d37842-c52e-422e-c386-9ebe0b95e872"
      },
      "execution_count": 51,
      "outputs": [
        {
          "output_type": "execute_result",
          "data": {
            "text/plain": [
              "        id    post                                               link\n",
              "1  fm3iyf9  doqqcm  /r/UCSD/comments/doqqcm/ask_me_anything_about_...\n",
              "2  fcsmguw  dqagex  /r/UCSD/comments/dqagex/winter_2020_enrollment...\n",
              "3  fcotp0r  ebzqrl  /r/UCSD/comments/ebzqrl/ahhhhhhhwhyahhhhhhh/fc...\n",
              "4  fcove2d  ecj85u  /r/UCSD/comments/ecj85u/busy_successful_studen...\n",
              "5  fcq9mqp  edwqpd  /r/UCSD/comments/edwqpd/smash_ultimate_rainbow..."
            ],
            "text/html": [
              "\n",
              "  <div id=\"df-a863d81a-8683-4e23-bc43-3b22419ae8be\" class=\"colab-df-container\">\n",
              "    <div>\n",
              "<style scoped>\n",
              "    .dataframe tbody tr th:only-of-type {\n",
              "        vertical-align: middle;\n",
              "    }\n",
              "\n",
              "    .dataframe tbody tr th {\n",
              "        vertical-align: top;\n",
              "    }\n",
              "\n",
              "    .dataframe thead th {\n",
              "        text-align: right;\n",
              "    }\n",
              "</style>\n",
              "<table border=\"1\" class=\"dataframe\">\n",
              "  <thead>\n",
              "    <tr style=\"text-align: right;\">\n",
              "      <th></th>\n",
              "      <th>id</th>\n",
              "      <th>post</th>\n",
              "      <th>link</th>\n",
              "    </tr>\n",
              "  </thead>\n",
              "  <tbody>\n",
              "    <tr>\n",
              "      <th>1</th>\n",
              "      <td>fm3iyf9</td>\n",
              "      <td>doqqcm</td>\n",
              "      <td>/r/UCSD/comments/doqqcm/ask_me_anything_about_...</td>\n",
              "    </tr>\n",
              "    <tr>\n",
              "      <th>2</th>\n",
              "      <td>fcsmguw</td>\n",
              "      <td>dqagex</td>\n",
              "      <td>/r/UCSD/comments/dqagex/winter_2020_enrollment...</td>\n",
              "    </tr>\n",
              "    <tr>\n",
              "      <th>3</th>\n",
              "      <td>fcotp0r</td>\n",
              "      <td>ebzqrl</td>\n",
              "      <td>/r/UCSD/comments/ebzqrl/ahhhhhhhwhyahhhhhhh/fc...</td>\n",
              "    </tr>\n",
              "    <tr>\n",
              "      <th>4</th>\n",
              "      <td>fcove2d</td>\n",
              "      <td>ecj85u</td>\n",
              "      <td>/r/UCSD/comments/ecj85u/busy_successful_studen...</td>\n",
              "    </tr>\n",
              "    <tr>\n",
              "      <th>5</th>\n",
              "      <td>fcq9mqp</td>\n",
              "      <td>edwqpd</td>\n",
              "      <td>/r/UCSD/comments/edwqpd/smash_ultimate_rainbow...</td>\n",
              "    </tr>\n",
              "  </tbody>\n",
              "</table>\n",
              "</div>\n",
              "    <div class=\"colab-df-buttons\">\n",
              "\n",
              "  <div class=\"colab-df-container\">\n",
              "    <button class=\"colab-df-convert\" onclick=\"convertToInteractive('df-a863d81a-8683-4e23-bc43-3b22419ae8be')\"\n",
              "            title=\"Convert this dataframe to an interactive table.\"\n",
              "            style=\"display:none;\">\n",
              "\n",
              "  <svg xmlns=\"http://www.w3.org/2000/svg\" height=\"24px\" viewBox=\"0 -960 960 960\">\n",
              "    <path d=\"M120-120v-720h720v720H120Zm60-500h600v-160H180v160Zm220 220h160v-160H400v160Zm0 220h160v-160H400v160ZM180-400h160v-160H180v160Zm440 0h160v-160H620v160ZM180-180h160v-160H180v160Zm440 0h160v-160H620v160Z\"/>\n",
              "  </svg>\n",
              "    </button>\n",
              "\n",
              "  <style>\n",
              "    .colab-df-container {\n",
              "      display:flex;\n",
              "      gap: 12px;\n",
              "    }\n",
              "\n",
              "    .colab-df-convert {\n",
              "      background-color: #E8F0FE;\n",
              "      border: none;\n",
              "      border-radius: 50%;\n",
              "      cursor: pointer;\n",
              "      display: none;\n",
              "      fill: #1967D2;\n",
              "      height: 32px;\n",
              "      padding: 0 0 0 0;\n",
              "      width: 32px;\n",
              "    }\n",
              "\n",
              "    .colab-df-convert:hover {\n",
              "      background-color: #E2EBFA;\n",
              "      box-shadow: 0px 1px 2px rgba(60, 64, 67, 0.3), 0px 1px 3px 1px rgba(60, 64, 67, 0.15);\n",
              "      fill: #174EA6;\n",
              "    }\n",
              "\n",
              "    .colab-df-buttons div {\n",
              "      margin-bottom: 4px;\n",
              "    }\n",
              "\n",
              "    [theme=dark] .colab-df-convert {\n",
              "      background-color: #3B4455;\n",
              "      fill: #D2E3FC;\n",
              "    }\n",
              "\n",
              "    [theme=dark] .colab-df-convert:hover {\n",
              "      background-color: #434B5C;\n",
              "      box-shadow: 0px 1px 3px 1px rgba(0, 0, 0, 0.15);\n",
              "      filter: drop-shadow(0px 1px 2px rgba(0, 0, 0, 0.3));\n",
              "      fill: #FFFFFF;\n",
              "    }\n",
              "  </style>\n",
              "\n",
              "    <script>\n",
              "      const buttonEl =\n",
              "        document.querySelector('#df-a863d81a-8683-4e23-bc43-3b22419ae8be button.colab-df-convert');\n",
              "      buttonEl.style.display =\n",
              "        google.colab.kernel.accessAllowed ? 'block' : 'none';\n",
              "\n",
              "      async function convertToInteractive(key) {\n",
              "        const element = document.querySelector('#df-a863d81a-8683-4e23-bc43-3b22419ae8be');\n",
              "        const dataTable =\n",
              "          await google.colab.kernel.invokeFunction('convertToInteractive',\n",
              "                                                    [key], {});\n",
              "        if (!dataTable) return;\n",
              "\n",
              "        const docLinkHtml = 'Like what you see? Visit the ' +\n",
              "          '<a target=\"_blank\" href=https://colab.research.google.com/notebooks/data_table.ipynb>data table notebook</a>'\n",
              "          + ' to learn more about interactive tables.';\n",
              "        element.innerHTML = '';\n",
              "        dataTable['output_type'] = 'display_data';\n",
              "        await google.colab.output.renderOutput(dataTable, element);\n",
              "        const docLink = document.createElement('div');\n",
              "        docLink.innerHTML = docLinkHtml;\n",
              "        element.appendChild(docLink);\n",
              "      }\n",
              "    </script>\n",
              "  </div>\n",
              "\n",
              "\n",
              "<div id=\"df-727034ec-9de1-47a8-bc1d-76f61f0e1ed8\">\n",
              "  <button class=\"colab-df-quickchart\" onclick=\"quickchart('df-727034ec-9de1-47a8-bc1d-76f61f0e1ed8')\"\n",
              "            title=\"Suggest charts\"\n",
              "            style=\"display:none;\">\n",
              "\n",
              "<svg xmlns=\"http://www.w3.org/2000/svg\" height=\"24px\"viewBox=\"0 0 24 24\"\n",
              "     width=\"24px\">\n",
              "    <g>\n",
              "        <path d=\"M19 3H5c-1.1 0-2 .9-2 2v14c0 1.1.9 2 2 2h14c1.1 0 2-.9 2-2V5c0-1.1-.9-2-2-2zM9 17H7v-7h2v7zm4 0h-2V7h2v10zm4 0h-2v-4h2v4z\"/>\n",
              "    </g>\n",
              "</svg>\n",
              "  </button>\n",
              "\n",
              "<style>\n",
              "  .colab-df-quickchart {\n",
              "      --bg-color: #E8F0FE;\n",
              "      --fill-color: #1967D2;\n",
              "      --hover-bg-color: #E2EBFA;\n",
              "      --hover-fill-color: #174EA6;\n",
              "      --disabled-fill-color: #AAA;\n",
              "      --disabled-bg-color: #DDD;\n",
              "  }\n",
              "\n",
              "  [theme=dark] .colab-df-quickchart {\n",
              "      --bg-color: #3B4455;\n",
              "      --fill-color: #D2E3FC;\n",
              "      --hover-bg-color: #434B5C;\n",
              "      --hover-fill-color: #FFFFFF;\n",
              "      --disabled-bg-color: #3B4455;\n",
              "      --disabled-fill-color: #666;\n",
              "  }\n",
              "\n",
              "  .colab-df-quickchart {\n",
              "    background-color: var(--bg-color);\n",
              "    border: none;\n",
              "    border-radius: 50%;\n",
              "    cursor: pointer;\n",
              "    display: none;\n",
              "    fill: var(--fill-color);\n",
              "    height: 32px;\n",
              "    padding: 0;\n",
              "    width: 32px;\n",
              "  }\n",
              "\n",
              "  .colab-df-quickchart:hover {\n",
              "    background-color: var(--hover-bg-color);\n",
              "    box-shadow: 0 1px 2px rgba(60, 64, 67, 0.3), 0 1px 3px 1px rgba(60, 64, 67, 0.15);\n",
              "    fill: var(--button-hover-fill-color);\n",
              "  }\n",
              "\n",
              "  .colab-df-quickchart-complete:disabled,\n",
              "  .colab-df-quickchart-complete:disabled:hover {\n",
              "    background-color: var(--disabled-bg-color);\n",
              "    fill: var(--disabled-fill-color);\n",
              "    box-shadow: none;\n",
              "  }\n",
              "\n",
              "  .colab-df-spinner {\n",
              "    border: 2px solid var(--fill-color);\n",
              "    border-color: transparent;\n",
              "    border-bottom-color: var(--fill-color);\n",
              "    animation:\n",
              "      spin 1s steps(1) infinite;\n",
              "  }\n",
              "\n",
              "  @keyframes spin {\n",
              "    0% {\n",
              "      border-color: transparent;\n",
              "      border-bottom-color: var(--fill-color);\n",
              "      border-left-color: var(--fill-color);\n",
              "    }\n",
              "    20% {\n",
              "      border-color: transparent;\n",
              "      border-left-color: var(--fill-color);\n",
              "      border-top-color: var(--fill-color);\n",
              "    }\n",
              "    30% {\n",
              "      border-color: transparent;\n",
              "      border-left-color: var(--fill-color);\n",
              "      border-top-color: var(--fill-color);\n",
              "      border-right-color: var(--fill-color);\n",
              "    }\n",
              "    40% {\n",
              "      border-color: transparent;\n",
              "      border-right-color: var(--fill-color);\n",
              "      border-top-color: var(--fill-color);\n",
              "    }\n",
              "    60% {\n",
              "      border-color: transparent;\n",
              "      border-right-color: var(--fill-color);\n",
              "    }\n",
              "    80% {\n",
              "      border-color: transparent;\n",
              "      border-right-color: var(--fill-color);\n",
              "      border-bottom-color: var(--fill-color);\n",
              "    }\n",
              "    90% {\n",
              "      border-color: transparent;\n",
              "      border-bottom-color: var(--fill-color);\n",
              "    }\n",
              "  }\n",
              "</style>\n",
              "\n",
              "  <script>\n",
              "    async function quickchart(key) {\n",
              "      const quickchartButtonEl =\n",
              "        document.querySelector('#' + key + ' button');\n",
              "      quickchartButtonEl.disabled = true;  // To prevent multiple clicks.\n",
              "      quickchartButtonEl.classList.add('colab-df-spinner');\n",
              "      try {\n",
              "        const charts = await google.colab.kernel.invokeFunction(\n",
              "            'suggestCharts', [key], {});\n",
              "      } catch (error) {\n",
              "        console.error('Error during call to suggestCharts:', error);\n",
              "      }\n",
              "      quickchartButtonEl.classList.remove('colab-df-spinner');\n",
              "      quickchartButtonEl.classList.add('colab-df-quickchart-complete');\n",
              "    }\n",
              "    (() => {\n",
              "      let quickchartButtonEl =\n",
              "        document.querySelector('#df-727034ec-9de1-47a8-bc1d-76f61f0e1ed8 button');\n",
              "      quickchartButtonEl.style.display =\n",
              "        google.colab.kernel.accessAllowed ? 'block' : 'none';\n",
              "    })();\n",
              "  </script>\n",
              "</div>\n",
              "\n",
              "    </div>\n",
              "  </div>\n"
            ],
            "application/vnd.google.colaboratory.intrinsic+json": {
              "type": "dataframe",
              "variable_name": "parents",
              "summary": "{\n  \"name\": \"parents\",\n  \"rows\": 67250,\n  \"fields\": [\n    {\n      \"column\": \"id\",\n      \"properties\": {\n        \"dtype\": \"string\",\n        \"num_unique_values\": 67250,\n        \"samples\": [\n          \"gbwbpxd\",\n          \"gxtsneq\",\n          \"fppxmqp\"\n        ],\n        \"semantic_type\": \"\",\n        \"description\": \"\"\n      }\n    },\n    {\n      \"column\": \"post\",\n      \"properties\": {\n        \"dtype\": \"category\",\n        \"num_unique_values\": 19431,\n        \"samples\": [\n          \"ho8eby\",\n          \"m7wldt\",\n          \"iz372q\"\n        ],\n        \"semantic_type\": \"\",\n        \"description\": \"\"\n      }\n    },\n    {\n      \"column\": \"link\",\n      \"properties\": {\n        \"dtype\": \"string\",\n        \"num_unique_values\": 67250,\n        \"samples\": [\n          \"/r/UCSD/comments/jrsouj/to_the_violin_guygirl_in_seventh/gbwbpxd/\",\n          \"/r/UCSD/comments/nadn5l/im_the_instructor_for_phil_90_understanding_evil/gxtsneq/\",\n          \"/r/UCSD/comments/gethd0/chem_6b_study_group/fppxmqp/\"\n        ],\n        \"semantic_type\": \"\",\n        \"description\": \"\"\n      }\n    }\n  ]\n}"
            }
          },
          "metadata": {},
          "execution_count": 51
        }
      ]
    },
    {
      "cell_type": "code",
      "source": [
        "# Create child_to_parent, parent_to_children dictionaries\n",
        "child_to_parent = defaultdict(str)\n",
        "parent_to_children = defaultdict(list)\n",
        "\n",
        "for i in range(dyad.shape[0]):\n",
        "  child = dyad['child_id'][i]\n",
        "  parent = dyad['parent_id'][i]\n",
        "  child_to_parent[child] = parent\n",
        "  parent_to_children[parent].append(child)\n"
      ],
      "metadata": {
        "id": "ETF5WvPAZpHN"
      },
      "execution_count": 52,
      "outputs": []
    },
    {
      "cell_type": "code",
      "source": [
        "# Identify leaf nodes\n",
        "leaves = []\n",
        "for child in child_to_parent:\n",
        "  if child not in parent_to_children:\n",
        "    leaves.append(child)"
      ],
      "metadata": {
        "id": "NhUZrfJ6a_yC"
      },
      "execution_count": 53,
      "outputs": []
    },
    {
      "cell_type": "code",
      "source": [
        "# METHOD 1 for identifying root nodes\n",
        "roots = []\n",
        "for parent in parent_to_children:\n",
        "  if parent not in child_to_parent:\n",
        "    roots.append(parent)"
      ],
      "metadata": {
        "id": "8kpl9wvSpWhf"
      },
      "execution_count": 54,
      "outputs": []
    },
    {
      "cell_type": "code",
      "source": [
        "# METHOD 2 for identifying root nodes\n",
        "roots2 = []\n",
        "for parent in parent_to_children:\n",
        "  if parent in list(parents['id']):\n",
        "    roots2.append(parent)"
      ],
      "metadata": {
        "id": "D_y4RCxZbMiQ"
      },
      "execution_count": 55,
      "outputs": []
    },
    {
      "cell_type": "code",
      "source": [
        "# Nodes identified by METHOD 1 and not METHOD 2\n",
        "set(roots) - set(roots2)"
      ],
      "metadata": {
        "colab": {
          "base_uri": "https://localhost:8080/"
        },
        "id": "OX9ZmXcpp4Pg",
        "outputId": "3bf11346-b5f9-425a-dc47-3d27a1138f57"
      },
      "execution_count": 56,
      "outputs": [
        {
          "output_type": "execute_result",
          "data": {
            "text/plain": [
              "{'fcozrto',\n",
              " 'fcp1let',\n",
              " 'fcp4ccg',\n",
              " 'fcp5gtl',\n",
              " 'fcpz9b6',\n",
              " 'fcrin3p',\n",
              " 'fcsow5b',\n",
              " 'fcsycxv',\n",
              " 'fctbdyi',\n",
              " 'fcvgxm2',\n",
              " 'fcw869v',\n",
              " 'fd0zzga',\n",
              " 'fd6dv4l',\n",
              " 'fd6g76c',\n",
              " 'fd7p1gz',\n",
              " 'fd968uu',\n",
              " 'fdcabgh',\n",
              " 'fdcl0dj',\n",
              " 'fdcnx37',\n",
              " 'fdcol0r',\n",
              " 'fdegncz',\n",
              " 'fdfzrch',\n",
              " 'fdgaghb',\n",
              " 'fdhwhvx',\n",
              " 'fdhziqc',\n",
              " 'fdi7rp9',\n",
              " 'fdj0th3',\n",
              " 'fdje1ng',\n",
              " 'fdk858e',\n",
              " 'fdlhqgq'}"
            ]
          },
          "metadata": {},
          "execution_count": 56
        }
      ]
    },
    {
      "cell_type": "code",
      "source": [
        "# child_to_parent cannot be called on these nodes\n",
        "# Therfore Bottom Up approach (below) has to make use of METHOD 1 roots\n",
        "child_to_parent['fdlhqgq']"
      ],
      "metadata": {
        "colab": {
          "base_uri": "https://localhost:8080/",
          "height": 35
        },
        "id": "1ZjOgaM0p86r",
        "outputId": "6423f168-1b85-4c7c-8739-a5faaabe8db1"
      },
      "execution_count": 57,
      "outputs": [
        {
          "output_type": "execute_result",
          "data": {
            "text/plain": [
              "''"
            ],
            "application/vnd.google.colaboratory.intrinsic+json": {
              "type": "string"
            }
          },
          "metadata": {},
          "execution_count": 57
        }
      ]
    },
    {
      "cell_type": "markdown",
      "source": [
        "# Bottom Up Approach\n"
      ],
      "metadata": {
        "id": "ypc2KWcnLHau"
      }
    },
    {
      "cell_type": "code",
      "source": [
        "conversationsBottomUp = []\n",
        "for leaf in leaves:\n",
        "  conversation = [leaf]\n",
        "  currentNode = leaf\n",
        "  while True:\n",
        "    if currentNode in roots: break\n",
        "    parent =  child_to_parent[currentNode]\n",
        "    conversation.append(parent)\n",
        "    currentNode = parent\n",
        "  conversationsBottomUp.append(conversation)\n",
        "\n",
        "len(conversationsBottomUp)"
      ],
      "metadata": {
        "id": "Gij0yMjBbSP0",
        "colab": {
          "base_uri": "https://localhost:8080/"
        },
        "outputId": "146a2709-9e6b-466b-96cd-2f298e542502"
      },
      "execution_count": 58,
      "outputs": [
        {
          "output_type": "execute_result",
          "data": {
            "text/plain": [
              "286"
            ]
          },
          "metadata": {},
          "execution_count": 58
        }
      ]
    },
    {
      "cell_type": "code",
      "source": [
        "# Example\n",
        "conversationsBottomUp[10]"
      ],
      "metadata": {
        "colab": {
          "base_uri": "https://localhost:8080/"
        },
        "id": "qRQ7pQrcZljk",
        "outputId": "14f5e33a-2baf-4753-8781-9347731bf82b"
      },
      "execution_count": 71,
      "outputs": [
        {
          "output_type": "execute_result",
          "data": {
            "text/plain": [
              "['fcsed46', 'fcsdbfg', 'fcpusy9']"
            ]
          },
          "metadata": {},
          "execution_count": 71
        }
      ]
    },
    {
      "cell_type": "markdown",
      "source": [
        "# Top Down Approach"
      ],
      "metadata": {
        "id": "FtWhc47OLL1J"
      }
    },
    {
      "cell_type": "code",
      "source": [
        "# Find all paths given root node\n",
        "def findPath(currentNode, conversation, rootConvos):\n",
        "  conversation.append(currentNode)\n",
        "  if currentNode in leaves:\n",
        "    rootConvos.append(list(conversation))\n",
        "  children = parent_to_children[currentNode]\n",
        "  for child in children:\n",
        "    findPath(child, conversation, rootConvos)\n",
        "  conversation.pop()\n",
        "\n",
        "def allPaths(root):\n",
        "  allPaths = []\n",
        "  findPath(root, [], allPaths)\n",
        "  return allPaths"
      ],
      "metadata": {
        "id": "UdmvfjAjTtzA"
      },
      "execution_count": 59,
      "outputs": []
    },
    {
      "cell_type": "code",
      "source": [
        "# Do this for every root\n",
        "conversationsTopDown = []\n",
        "for root in roots2:\n",
        "  conversationsTopDown += allPaths(root)\n",
        "len(conversationsTopDown)"
      ],
      "metadata": {
        "colab": {
          "base_uri": "https://localhost:8080/"
        },
        "id": "g4RWwbY_Mg17",
        "outputId": "a0e6fdc4-9c51-44c1-d4bb-a3881d6c4a0d"
      },
      "execution_count": 60,
      "outputs": [
        {
          "output_type": "execute_result",
          "data": {
            "text/plain": [
              "253"
            ]
          },
          "metadata": {},
          "execution_count": 60
        }
      ]
    },
    {
      "cell_type": "code",
      "source": [
        "# Example\n",
        "conversationsTopDown[8]"
      ],
      "metadata": {
        "colab": {
          "base_uri": "https://localhost:8080/"
        },
        "id": "FPb0AftSZhdk",
        "outputId": "0dd937b4-d5a6-4c0c-86fa-37cd0bd0c8d1"
      },
      "execution_count": 69,
      "outputs": [
        {
          "output_type": "execute_result",
          "data": {
            "text/plain": [
              "['fcsljw3', 'fcslqeb', 'fcslu28']"
            ]
          },
          "metadata": {},
          "execution_count": 69
        }
      ]
    },
    {
      "cell_type": "markdown",
      "source": [
        "# Printing Conversations"
      ],
      "metadata": {
        "id": "x5xdwC92WE2j"
      }
    },
    {
      "cell_type": "code",
      "source": [
        "def getIndex(df,col,val):\n",
        "  return df.index[df[col]==val][0]"
      ],
      "metadata": {
        "id": "5YKI9ETic8gg"
      },
      "execution_count": 61,
      "outputs": []
    },
    {
      "cell_type": "code",
      "source": [
        "# This function assumes that a TOP DOWN approach was used.\n",
        "# If a bottom up approach was used to create list, reverse it before calling function\n",
        "def list_to_conversation(lst):\n",
        "  # Print POST LINK\n",
        "  postIndex = getIndex(parents,'id',lst[0])\n",
        "  print('POST: reddit.com' + parents['link'][postIndex])\n",
        "  # Print ROOT\n",
        "  count = 1\n",
        "  parentIndex = getIndex(dyad,'parent_id',lst[0])\n",
        "  print(count, ':',dyad['parent_content'][parentIndex])\n",
        "  # Print CHILDREN\n",
        "  for i in range(1,len(lst)):\n",
        "    count += 1\n",
        "    childIndex = getIndex(dyad,'child_id',lst[i])\n",
        "    print('\\n',count, ':',dyad['child_content'][childIndex])"
      ],
      "metadata": {
        "id": "CloUTdtFcJbp"
      },
      "execution_count": 62,
      "outputs": []
    },
    {
      "cell_type": "code",
      "source": [
        "# Example\n",
        "longestConvo = ['fcv5o9b', 'fcvgios', 'fcxouul', 'fcy6tlq', 'fcygjem', 'fd5d4ul', 'fd7g09v', 'fd7tcok', 'fd875d2', 'fd8nrcd', 'fd90ywd', 'fdb8elw', 'fdc09db', 'fdde1to', 'fddg1iw', 'fdetitc', 'fdf0r96']\n",
        "# ^ Length is 17. Found by max(len(x) for x in conversationsTopDown), and then iterating through until conversation is found\n",
        "list_to_conversation(longestConvo)"
      ],
      "metadata": {
        "colab": {
          "base_uri": "https://localhost:8080/"
        },
        "id": "hWD2QXHJYZcT",
        "outputId": "444c705b-3472-493f-add9-d514f29e64d0"
      },
      "execution_count": 72,
      "outputs": [
        {
          "output_type": "stream",
          "name": "stdout",
          "text": [
            "POST: reddit.com/r/UCSD/comments/ej2zjv/does_this_happen_to_anyone_else/fcv5o9b/\n",
            "1 : USD is the Virgin \n",
            "\n",
            "UCSD is the CHAD.\n",
            "\n",
            "SDSU Is the T H A D of all San Diego Universities.\n",
            "\n",
            " 2 : In what world is UCSD not the virgin?\n",
            "\n",
            " 3 : It's not the virgin because we're not literally comparing the sex lives of students.... If reputation and relevance in the world is the consideration, then UCSD is definitely not the \"virgin\".\n",
            "\n",
            " 4 : So SDSU has a better reputation?\n",
            "\n",
            " 5 : I don't believe so. The person that called it the thad seems to think it's better though\n",
            "\n",
            " 6 : I mean isn’t that what literally everyone in this post is saying? Like the point is that UCSD lacks a reputation.\n",
            "\n",
            " 7 : It definitely does not lack a reputation in the academic/scientific world and it is certainly NOT lesser known than USD. Nobody outside of SoCal, or even outside of SD, knows about USD. Thus, the designation of it as the virgin by the poster.\n",
            "\n",
            "SDSU provides more of a college experience than UCSD but UCSD has better academic recognition. This comparison is up for debate.\n",
            "\n",
            " 8 : Well didn’t I say it has a great reputation in the academic/scientific world for those who have heard of it? I did a few times on this post. Overall, I would say it’s about equal to USD. I don’t like USD either, don’t worry, but they are well known with people who go to Pepperdine, tcu, other Christian schools that I can’t remember bc I’m not a Christian.  You guys have different reach but I’m not sure which is wider. \n",
            "\n",
            "As for sdsu, I would agree that comparison is up for debate, since academic recognition is different for both schools. Overall, SDSU is much more recognized to the general public bc of sports and branding. But UCSD is certainly held to higher regards within some research centers while SDSU is within various professions. But yeah I would totally say that UCSD is best in research with only a few exceptions that SDSU excels in (public health for example). That’s why u guys are great and the joint programs between SDSU and UCSD are so awesome bc we bring together two totally different strengths (hands on field work combined with research)\n",
            "\n",
            " 9 : I don't know what you're arguing here. I merely responded to someone asking in what world UCSD was not considered the virgin of the three schools.\n",
            "\n",
            "You must be on a second account because I don't see that you said anything else.... \n",
            "\n",
            "I didn't say I didn't like USD. I said nobody anywhere has heard of it.\n",
            "\n",
            " 10 : No, I defended your honor the the guy who hates student loans at the bottom of this post.  Also on r/SanDiego my KING, I got u ;)\n",
            "\n",
            "I’m not arguing, just reminding u of the point of this post. U seem to have gotten sidetracked. Both USD and, specifically, SDSU have bigger reputations, which is what everyone here is agreeing to.  Including you, except when you disagreed for the sake of an internet argument. Not saying anything mean about ur school so no need for da class. UCSD is the virgin (hehe) but we all hate usd regardless ;-) ;)\n",
            "\n",
            " 11 : USD is ranked #91. It has nowhere near the quality or number of publications of UCSD. Nobody outside of SD knows about it. Yet somehow you keep claiming that it is better known than UCSD... Something's not adding up here. You must be sidetracked. \n",
            "\n",
            "The reputation of your school SDSU is merely as a party school and this is known around California. This is the college experience some kids look for. The school is known for little else. But they are fighting to regain respect as a university.\n",
            "\n",
            "\n",
            "Never been on r/SanDiego. Sorry bud.\n",
            "\n",
            " 12 : Why are you being rude when I’ve been kind to you this whole time? Lol. I’ve been joking with u about USD, never attacking your own school. I defended it in this case because UCSD has been mistaken for USD. Why? It has more of a reach in the Christian community, as I kindly explained to you. Does it affect how good of a school UCSD can be? No dude. Does the ranking of USD really matter? Not really, there are tons of schools  unranked on that list that are arguably better than UCSD: Harvey mudd, cal poly, etc. your worth is not measured in rankings that take into account things within the school that don’t affect you as a student. \n",
            "\n",
            "I’m not the one who started this post. I agree that this issue is common and I’ve seen it happen a lot. Publications doesn’t give your school branding, unfortunately.  Does it mean your school rocks? Totally. Did I ever argue against that? No, I ever argued FOR the fact that UCSD has great reputation in academia. It needs better branding to represent the accomplishments and the education it could prove students who otherwise mistake it for other schools. \n",
            "\n",
            "Also SDSU hasn’t been seen as just a party school since it became as hard to get into as UCSD, as you can see in this thread.  It can be a party school with a positive reputation, which you can see it is. Regardless, we party but it’s nothing to be brushed off, you know? Again, this reputation was previously stated not by me but by several people. If you’re so concerned about it being a party school then that’s probably bad news for you since evidently that’s the same reputation your school is getting at this point. It’s a little ironic that the only people I’ve ever heard talking down on SDSU are UCSD students. Apparently we are the same school so I would probably cut that out lol. Sorry if I sound defensive but I never attacked your school so I’m not sure why you’re being so weird about this, I personally think this is a little funny although I’m concerned about you.\n",
            "\n",
            "You decided to try to argue with me, why? I have been nice to you. This may have been a gut wrenching  thread to read but I’ve personally never said a single bad thing to you. You honestly look really rude and I don’t know why you’ve been so negative. I hope you get the attention you need and the reassurance I can see you want. Not a bad thing, we are human and this isn’t a calming post to read for you. There’s another thread where someone celebrates the fact that someone knew of UCSD, maybe you need to cool off over there? There’s a lot of negativity here so I understand the aggression, I’ve been through the same frustration when my school has a scandal, but I’m not here for that. I did not deserve such rude responses out of nowhere and you know this too.\n",
            "\n",
            "You need to reread my comments, maybe you got me confused for another person? Oh well, I have other things to do than continue to stroke a 19 year olds ego now that I’m off the toilet.\n",
            "\n",
            " 13 : Half the things you've said in this conversation have made no sense and i responded as such. But where was I rude?\n",
            "\n",
            "- I never said I hated USD but you persist...just putting words in my mouth\n",
            "- We haven't chatted before and I've never been on r/SanDiego so I expressed confusion \n",
            "\n",
            "-You continue responding to me in hopes of setting off a debate which obviously is annoying. Go read the original comment. The person rating them did not write that UCSD is the virgin, someone asked why and I simply backed it up. You're so bent on proving that it is... a school that you don't go to...Why are you so bitter about UCSD that you would persist about it's so called \"virginity\" (in your words) for so long? Go read the comment. You'll see that you are arguing needlessly.  Somewhere you wrote \"Did I not say that.. \" - clearly looking for confrontation while I've been disinterested all along.\n",
            "\n",
            "- I'm not a king; I'm not a man. And you were clearly being sarcastic either way.\n",
            "\n",
            "I'm blunt and was telling truth...I never attacked you and wasn't rude. We all know the SDSU reputation is drinking and partying. Is that what you're referring to? It's rude because you're a student there? This reputation was told to me before I ever became a student at UCSD. I declined Cal Poly because they don't get many students into Medical Schools. Per the advice of med students and even an adcom member on studentdoctor.net, UC schools are the best bet for getting into a program as they are well known and very reputable. You're on a page for a school you don't even go to and attempting to prove that it isn't as relevant as it truly is. I'm guessing you're upset about not getting in. And does the ranking of USD matter? No, but I and someone else here don't consider it better than UCSD for that among many reasons and you are offended by it and won't let that go. When applying to grad/med programs and applying to companies after graduating, UCSD will look better on a resume than most of the schools brought up here.\n",
            "\n",
            " 14 : You backed it up by disagreeing with something I and a lot of people agreed with. I responded by asking why... that’s not bullying? \n",
            "\n",
            "I was never offended by the ranking of USD. I don’t like the school so I was more like saying “haha yeah it sucks but how is that relevant?” \n",
            "\n",
            "The post is literally about reputation, you, I, and everyone else here agrees that UCSD has not built a reputation so much so that one small Christian school and a so called party school is more well known. \n",
            "\n",
            "I went to UCSD, dropped out my final quarter of my first year  because I couldn’t imagine myself pursuing that degree at the price it was with the lack of resources I needed.  I was pursuing a degree in public health, I went to community college and then transferred to SDSU to pursue something I couldn’t get from UCSD. Even if I didn’t go to UCSD, the post is literally about the reputation and awareness of the school.\n",
            "\n",
            "It’s not my fault you are so upset about the content in this post that you’re lashing out at every other person you respond to. It’s not that big of a deal. Like I said to you a million times, UCSD is a wonderful school and it has a reputation in the fields that it truly needs a reputation in, like some medical schools. I personally found that SDSU had a better name and a wider reach in the program I pursue and that’s ok, but it doesn’t make it a better school than yours. You can’t compare us like that. Again, we didn’t begin comparing schools until you brought it up to attack other schools. We were on topic and I’m not sure why you sidetracked like that.\n",
            "\n",
            "I’m sorry I called you “king”, most people on reddit are men. That wasn’t an attack on you, queen. It’s literally just a comment. I wasn’t arguing needlessly when I sent like a couple sentences obv making light of it. Me saying “did I not say that” and “again” and “per my last email” literally just means that you’re causing me to repeat points that you probably should have read before going off in a random person in a thread. I am not the marketing coordinator of UCSD lmao I’m not trying to throw hands because random people on the street are more likely to not have heard of UCSD over a couple schools that are a bit older with a longer, more consistent,  brand.\n",
            "\n",
            "Once my constipation dies down our conversations will probably come to an end. Hopefully our next meeting is our last, getting coffy tomorrow\n",
            "\n",
            " 15 : I actually didn't read what you wrote beyond the first sentence. You're getting way ahead of yourself. Nobody here has said that USD or SDSU is a better school. \n",
            "\n",
            "Why don't you try writing out what you think it is you are arguing? It's unclear what exactly it is you're getting so angry over. You're writing endlessly without a point.\n",
            "\n",
            " 16 : Girl who’s angry? I’m trying to help u lmao what.  You keep misinterpreting literally every persons comment here. I never said they’re better schools, I’m saying theyre not comparable aside from this post and you keep arguing with me trying to feel better because you don’t like your own school. U gotta be pulling everyone’s leg at this point because I literally have no idea what post you are reading. No one here ever attacked you ma’am \n",
            "\n",
            "I can see from your other posts that you have confidence issues and difficulty talking to others. You seem to get it into your head that everyone’s attacking you when they aren’t. You need to remember, also, that you don’t need to attack schools to lift yours up. Same with your looks, your ideas, everything. You also can’t help other people before you help yourself and I hope someone so stuck up isn’t around young low income students.\n",
            "\n",
            " 17 : Damn you really don't know how to stop. Again you're just arguing without a point. Move on.\n"
          ]
        }
      ]
    }
  ]
}