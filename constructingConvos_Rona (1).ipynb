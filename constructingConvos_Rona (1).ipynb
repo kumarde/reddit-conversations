{
  "nbformat": 4,
  "nbformat_minor": 0,
  "metadata": {
    "colab": {
      "provenance": []
    },
    "kernelspec": {
      "name": "python3",
      "display_name": "Python 3"
    },
    "language_info": {
      "name": "python"
    }
  },
  "cells": [
    {
      "cell_type": "code",
      "execution_count": 1,
      "metadata": {
        "id": "W5ppIE_7ZUMJ"
      },
      "outputs": [],
      "source": [
        "import pandas as pd\n",
        "import numpy as np\n",
        "from collections import defaultdict\n",
        "from tqdm import tqdm\n",
        "import csv\n",
        "import json"
      ]
    },
    {
      "cell_type": "code",
      "source": [
        "# Dyad downloaded as CSV\n",
        "# Adjust path as needed\n",
        "dyad = pd.read_csv(\"/content/RedditAntiAbuseUCSD.csv\")"
      ],
      "metadata": {
        "id": "2GeSDeSCZcy6"
      },
      "execution_count": 2,
      "outputs": []
    },
    {
      "cell_type": "code",
      "source": [
        "# Table of all comments whose parent is the post, downloaded as CSV\n",
        "# The 'id' column of this table is basically a list of all the roots!\n",
        "# Adjust path as needed\n",
        "parents = pd.read_csv(\"/content/UCSDRoots.csv\")"
      ],
      "metadata": {
        "id": "FxpJOO_rjcHQ"
      },
      "execution_count": 3,
      "outputs": []
    },
    {
      "cell_type": "code",
      "source": [
        "print(dyad.shape)\n",
        "print(parents.shape)"
      ],
      "metadata": {
        "colab": {
          "base_uri": "https://localhost:8080/"
        },
        "id": "GXz42NxW7f_7",
        "outputId": "7131aa98-4096-446f-a7fd-b27bd590f578"
      },
      "execution_count": 4,
      "outputs": [
        {
          "output_type": "stream",
          "name": "stdout",
          "text": [
            "(53881, 5)\n",
            "(67250, 3)\n"
          ]
        }
      ]
    },
    {
      "cell_type": "code",
      "source": [
        "dyad.head()"
      ],
      "metadata": {
        "colab": {
          "base_uri": "https://localhost:8080/",
          "height": 206
        },
        "id": "9S2xNL31ZkuJ",
        "outputId": "4eeb158a-62ba-4191-a848-8e31b7a1506c"
      },
      "execution_count": 5,
      "outputs": [
        {
          "output_type": "execute_result",
          "data": {
            "text/plain": [
              "     post_id parent_id                                     parent_content  \\\n",
              "0  t3_eiacy6   fcoq5mb  I’m pretty sure I have heard of them accepting...   \n",
              "1  t3_eibln2   fcovsx7  FYI I emailed them to get a voucher last quart...   \n",
              "2  t3_ehznm9   fcozrto  Stats is much more employable, pure math sorta...   \n",
              "3  t3_ehznm9   fcozvy8  Gotcha.  I guess I look at it this way...if yo...   \n",
              "4  t3_ehznm9   fcp01am  This is what I needed to hear. Thank you kind ...   \n",
              "\n",
              "  child_id                                      child_content  \n",
              "0  fcoud8c                        Ty I’ll try waiving with it  \n",
              "1  fcowzcq           u gotta go in to college advising office  \n",
              "2  fcozvy8  Gotcha.  I guess I look at it this way...if yo...  \n",
              "3  fcp01am  This is what I needed to hear. Thank you kind ...  \n",
              "4  fcp2yr0  Of course! Happy new year!\\n\\nAlso yeah, that ...  "
            ],
            "text/html": [
              "\n",
              "  <div id=\"df-7dee2f22-2b91-4b8e-b3fd-26adaa68073b\" class=\"colab-df-container\">\n",
              "    <div>\n",
              "<style scoped>\n",
              "    .dataframe tbody tr th:only-of-type {\n",
              "        vertical-align: middle;\n",
              "    }\n",
              "\n",
              "    .dataframe tbody tr th {\n",
              "        vertical-align: top;\n",
              "    }\n",
              "\n",
              "    .dataframe thead th {\n",
              "        text-align: right;\n",
              "    }\n",
              "</style>\n",
              "<table border=\"1\" class=\"dataframe\">\n",
              "  <thead>\n",
              "    <tr style=\"text-align: right;\">\n",
              "      <th></th>\n",
              "      <th>post_id</th>\n",
              "      <th>parent_id</th>\n",
              "      <th>parent_content</th>\n",
              "      <th>child_id</th>\n",
              "      <th>child_content</th>\n",
              "    </tr>\n",
              "  </thead>\n",
              "  <tbody>\n",
              "    <tr>\n",
              "      <th>0</th>\n",
              "      <td>t3_eiacy6</td>\n",
              "      <td>fcoq5mb</td>\n",
              "      <td>I’m pretty sure I have heard of them accepting...</td>\n",
              "      <td>fcoud8c</td>\n",
              "      <td>Ty I’ll try waiving with it</td>\n",
              "    </tr>\n",
              "    <tr>\n",
              "      <th>1</th>\n",
              "      <td>t3_eibln2</td>\n",
              "      <td>fcovsx7</td>\n",
              "      <td>FYI I emailed them to get a voucher last quart...</td>\n",
              "      <td>fcowzcq</td>\n",
              "      <td>u gotta go in to college advising office</td>\n",
              "    </tr>\n",
              "    <tr>\n",
              "      <th>2</th>\n",
              "      <td>t3_ehznm9</td>\n",
              "      <td>fcozrto</td>\n",
              "      <td>Stats is much more employable, pure math sorta...</td>\n",
              "      <td>fcozvy8</td>\n",
              "      <td>Gotcha.  I guess I look at it this way...if yo...</td>\n",
              "    </tr>\n",
              "    <tr>\n",
              "      <th>3</th>\n",
              "      <td>t3_ehznm9</td>\n",
              "      <td>fcozvy8</td>\n",
              "      <td>Gotcha.  I guess I look at it this way...if yo...</td>\n",
              "      <td>fcp01am</td>\n",
              "      <td>This is what I needed to hear. Thank you kind ...</td>\n",
              "    </tr>\n",
              "    <tr>\n",
              "      <th>4</th>\n",
              "      <td>t3_ehznm9</td>\n",
              "      <td>fcp01am</td>\n",
              "      <td>This is what I needed to hear. Thank you kind ...</td>\n",
              "      <td>fcp2yr0</td>\n",
              "      <td>Of course! Happy new year!\\n\\nAlso yeah, that ...</td>\n",
              "    </tr>\n",
              "  </tbody>\n",
              "</table>\n",
              "</div>\n",
              "    <div class=\"colab-df-buttons\">\n",
              "\n",
              "  <div class=\"colab-df-container\">\n",
              "    <button class=\"colab-df-convert\" onclick=\"convertToInteractive('df-7dee2f22-2b91-4b8e-b3fd-26adaa68073b')\"\n",
              "            title=\"Convert this dataframe to an interactive table.\"\n",
              "            style=\"display:none;\">\n",
              "\n",
              "  <svg xmlns=\"http://www.w3.org/2000/svg\" height=\"24px\" viewBox=\"0 -960 960 960\">\n",
              "    <path d=\"M120-120v-720h720v720H120Zm60-500h600v-160H180v160Zm220 220h160v-160H400v160Zm0 220h160v-160H400v160ZM180-400h160v-160H180v160Zm440 0h160v-160H620v160ZM180-180h160v-160H180v160Zm440 0h160v-160H620v160Z\"/>\n",
              "  </svg>\n",
              "    </button>\n",
              "\n",
              "  <style>\n",
              "    .colab-df-container {\n",
              "      display:flex;\n",
              "      gap: 12px;\n",
              "    }\n",
              "\n",
              "    .colab-df-convert {\n",
              "      background-color: #E8F0FE;\n",
              "      border: none;\n",
              "      border-radius: 50%;\n",
              "      cursor: pointer;\n",
              "      display: none;\n",
              "      fill: #1967D2;\n",
              "      height: 32px;\n",
              "      padding: 0 0 0 0;\n",
              "      width: 32px;\n",
              "    }\n",
              "\n",
              "    .colab-df-convert:hover {\n",
              "      background-color: #E2EBFA;\n",
              "      box-shadow: 0px 1px 2px rgba(60, 64, 67, 0.3), 0px 1px 3px 1px rgba(60, 64, 67, 0.15);\n",
              "      fill: #174EA6;\n",
              "    }\n",
              "\n",
              "    .colab-df-buttons div {\n",
              "      margin-bottom: 4px;\n",
              "    }\n",
              "\n",
              "    [theme=dark] .colab-df-convert {\n",
              "      background-color: #3B4455;\n",
              "      fill: #D2E3FC;\n",
              "    }\n",
              "\n",
              "    [theme=dark] .colab-df-convert:hover {\n",
              "      background-color: #434B5C;\n",
              "      box-shadow: 0px 1px 3px 1px rgba(0, 0, 0, 0.15);\n",
              "      filter: drop-shadow(0px 1px 2px rgba(0, 0, 0, 0.3));\n",
              "      fill: #FFFFFF;\n",
              "    }\n",
              "  </style>\n",
              "\n",
              "    <script>\n",
              "      const buttonEl =\n",
              "        document.querySelector('#df-7dee2f22-2b91-4b8e-b3fd-26adaa68073b button.colab-df-convert');\n",
              "      buttonEl.style.display =\n",
              "        google.colab.kernel.accessAllowed ? 'block' : 'none';\n",
              "\n",
              "      async function convertToInteractive(key) {\n",
              "        const element = document.querySelector('#df-7dee2f22-2b91-4b8e-b3fd-26adaa68073b');\n",
              "        const dataTable =\n",
              "          await google.colab.kernel.invokeFunction('convertToInteractive',\n",
              "                                                    [key], {});\n",
              "        if (!dataTable) return;\n",
              "\n",
              "        const docLinkHtml = 'Like what you see? Visit the ' +\n",
              "          '<a target=\"_blank\" href=https://colab.research.google.com/notebooks/data_table.ipynb>data table notebook</a>'\n",
              "          + ' to learn more about interactive tables.';\n",
              "        element.innerHTML = '';\n",
              "        dataTable['output_type'] = 'display_data';\n",
              "        await google.colab.output.renderOutput(dataTable, element);\n",
              "        const docLink = document.createElement('div');\n",
              "        docLink.innerHTML = docLinkHtml;\n",
              "        element.appendChild(docLink);\n",
              "      }\n",
              "    </script>\n",
              "  </div>\n",
              "\n",
              "\n",
              "<div id=\"df-d0315190-e8e7-4e2b-8fed-8c0dff85422a\">\n",
              "  <button class=\"colab-df-quickchart\" onclick=\"quickchart('df-d0315190-e8e7-4e2b-8fed-8c0dff85422a')\"\n",
              "            title=\"Suggest charts\"\n",
              "            style=\"display:none;\">\n",
              "\n",
              "<svg xmlns=\"http://www.w3.org/2000/svg\" height=\"24px\"viewBox=\"0 0 24 24\"\n",
              "     width=\"24px\">\n",
              "    <g>\n",
              "        <path d=\"M19 3H5c-1.1 0-2 .9-2 2v14c0 1.1.9 2 2 2h14c1.1 0 2-.9 2-2V5c0-1.1-.9-2-2-2zM9 17H7v-7h2v7zm4 0h-2V7h2v10zm4 0h-2v-4h2v4z\"/>\n",
              "    </g>\n",
              "</svg>\n",
              "  </button>\n",
              "\n",
              "<style>\n",
              "  .colab-df-quickchart {\n",
              "      --bg-color: #E8F0FE;\n",
              "      --fill-color: #1967D2;\n",
              "      --hover-bg-color: #E2EBFA;\n",
              "      --hover-fill-color: #174EA6;\n",
              "      --disabled-fill-color: #AAA;\n",
              "      --disabled-bg-color: #DDD;\n",
              "  }\n",
              "\n",
              "  [theme=dark] .colab-df-quickchart {\n",
              "      --bg-color: #3B4455;\n",
              "      --fill-color: #D2E3FC;\n",
              "      --hover-bg-color: #434B5C;\n",
              "      --hover-fill-color: #FFFFFF;\n",
              "      --disabled-bg-color: #3B4455;\n",
              "      --disabled-fill-color: #666;\n",
              "  }\n",
              "\n",
              "  .colab-df-quickchart {\n",
              "    background-color: var(--bg-color);\n",
              "    border: none;\n",
              "    border-radius: 50%;\n",
              "    cursor: pointer;\n",
              "    display: none;\n",
              "    fill: var(--fill-color);\n",
              "    height: 32px;\n",
              "    padding: 0;\n",
              "    width: 32px;\n",
              "  }\n",
              "\n",
              "  .colab-df-quickchart:hover {\n",
              "    background-color: var(--hover-bg-color);\n",
              "    box-shadow: 0 1px 2px rgba(60, 64, 67, 0.3), 0 1px 3px 1px rgba(60, 64, 67, 0.15);\n",
              "    fill: var(--button-hover-fill-color);\n",
              "  }\n",
              "\n",
              "  .colab-df-quickchart-complete:disabled,\n",
              "  .colab-df-quickchart-complete:disabled:hover {\n",
              "    background-color: var(--disabled-bg-color);\n",
              "    fill: var(--disabled-fill-color);\n",
              "    box-shadow: none;\n",
              "  }\n",
              "\n",
              "  .colab-df-spinner {\n",
              "    border: 2px solid var(--fill-color);\n",
              "    border-color: transparent;\n",
              "    border-bottom-color: var(--fill-color);\n",
              "    animation:\n",
              "      spin 1s steps(1) infinite;\n",
              "  }\n",
              "\n",
              "  @keyframes spin {\n",
              "    0% {\n",
              "      border-color: transparent;\n",
              "      border-bottom-color: var(--fill-color);\n",
              "      border-left-color: var(--fill-color);\n",
              "    }\n",
              "    20% {\n",
              "      border-color: transparent;\n",
              "      border-left-color: var(--fill-color);\n",
              "      border-top-color: var(--fill-color);\n",
              "    }\n",
              "    30% {\n",
              "      border-color: transparent;\n",
              "      border-left-color: var(--fill-color);\n",
              "      border-top-color: var(--fill-color);\n",
              "      border-right-color: var(--fill-color);\n",
              "    }\n",
              "    40% {\n",
              "      border-color: transparent;\n",
              "      border-right-color: var(--fill-color);\n",
              "      border-top-color: var(--fill-color);\n",
              "    }\n",
              "    60% {\n",
              "      border-color: transparent;\n",
              "      border-right-color: var(--fill-color);\n",
              "    }\n",
              "    80% {\n",
              "      border-color: transparent;\n",
              "      border-right-color: var(--fill-color);\n",
              "      border-bottom-color: var(--fill-color);\n",
              "    }\n",
              "    90% {\n",
              "      border-color: transparent;\n",
              "      border-bottom-color: var(--fill-color);\n",
              "    }\n",
              "  }\n",
              "</style>\n",
              "\n",
              "  <script>\n",
              "    async function quickchart(key) {\n",
              "      const quickchartButtonEl =\n",
              "        document.querySelector('#' + key + ' button');\n",
              "      quickchartButtonEl.disabled = true;  // To prevent multiple clicks.\n",
              "      quickchartButtonEl.classList.add('colab-df-spinner');\n",
              "      try {\n",
              "        const charts = await google.colab.kernel.invokeFunction(\n",
              "            'suggestCharts', [key], {});\n",
              "      } catch (error) {\n",
              "        console.error('Error during call to suggestCharts:', error);\n",
              "      }\n",
              "      quickchartButtonEl.classList.remove('colab-df-spinner');\n",
              "      quickchartButtonEl.classList.add('colab-df-quickchart-complete');\n",
              "    }\n",
              "    (() => {\n",
              "      let quickchartButtonEl =\n",
              "        document.querySelector('#df-d0315190-e8e7-4e2b-8fed-8c0dff85422a button');\n",
              "      quickchartButtonEl.style.display =\n",
              "        google.colab.kernel.accessAllowed ? 'block' : 'none';\n",
              "    })();\n",
              "  </script>\n",
              "</div>\n",
              "\n",
              "    </div>\n",
              "  </div>\n"
            ],
            "application/vnd.google.colaboratory.intrinsic+json": {
              "type": "dataframe",
              "variable_name": "dyad",
              "summary": "{\n  \"name\": \"dyad\",\n  \"rows\": 53881,\n  \"fields\": [\n    {\n      \"column\": \"post_id\",\n      \"properties\": {\n        \"dtype\": \"category\",\n        \"num_unique_values\": 10745,\n        \"samples\": [\n          \"t3_gv1mqg\",\n          \"t3_gn15kw\",\n          \"t3_mhcamh\"\n        ],\n        \"semantic_type\": \"\",\n        \"description\": \"\"\n      }\n    },\n    {\n      \"column\": \"parent_id\",\n      \"properties\": {\n        \"dtype\": \"string\",\n        \"num_unique_values\": 45682,\n        \"samples\": [\n          \"gs8t02z\",\n          \"gu9x9lp\",\n          \"gs88t9k\"\n        ],\n        \"semantic_type\": \"\",\n        \"description\": \"\"\n      }\n    },\n    {\n      \"column\": \"parent_content\",\n      \"properties\": {\n        \"dtype\": \"string\",\n        \"num_unique_values\": 45628,\n        \"samples\": [\n          \"The stuff you\\u2019re learning right now is super important man, like not just in math but in all stem...at least in my experience. It\\u2019s really important to get a good grasp of the concepts and really understand what\\u2019s going on because what you\\u2019re doing right now is just straight math right, imagine getting weird physics problems and stuff where you don\\u2019t know what type of math you\\u2019re suppose to use on it. And tbh it\\u2019s okay to drop if you feel like you\\u2019re just not learning anything, I got a W my first quarter freshman year, but retook the class and got an A.\",\n          \"You can park at gliderport for free and the walk to campus isn\\u2019t bad.\",\n          \"we are in the same exact situation lol. I feel like they are picky when grading but the class/lab videos are super vague.\"\n        ],\n        \"semantic_type\": \"\",\n        \"description\": \"\"\n      }\n    },\n    {\n      \"column\": \"child_id\",\n      \"properties\": {\n        \"dtype\": \"string\",\n        \"num_unique_values\": 53881,\n        \"samples\": [\n          \"fgeu6vz\",\n          \"g7sjwr5\",\n          \"fzgfoii\"\n        ],\n        \"semantic_type\": \"\",\n        \"description\": \"\"\n      }\n    },\n    {\n      \"column\": \"child_content\",\n      \"properties\": {\n        \"dtype\": \"string\",\n        \"num_unique_values\": 53594,\n        \"samples\": [\n          \"I am also studying fully remotely from Korea and I feel this haha\",\n          \"I'm very impressed with how UCSD has handled the pandemic.\",\n          \"CSE has everyone waitlist. Then they go in an authorize students to enroll themselves based on those who need it the most based on major. Keep an eye on your email and if they authorize you they will notify you that you need to go in an enroll.\"\n        ],\n        \"semantic_type\": \"\",\n        \"description\": \"\"\n      }\n    }\n  ]\n}"
            }
          },
          "metadata": {},
          "execution_count": 5
        }
      ]
    },
    {
      "cell_type": "code",
      "source": [
        "parents.head()"
      ],
      "metadata": {
        "colab": {
          "base_uri": "https://localhost:8080/",
          "height": 206
        },
        "id": "tXddWld3jugj",
        "outputId": "790cef3d-f7ff-4576-e606-b62204a2a745"
      },
      "execution_count": 6,
      "outputs": [
        {
          "output_type": "execute_result",
          "data": {
            "text/plain": [
              "        id post_id                                          post_link\n",
              "0  fm3iyf9  doqqcm  /r/UCSD/comments/doqqcm/ask_me_anything_about_...\n",
              "1  fcsmguw  dqagex  /r/UCSD/comments/dqagex/winter_2020_enrollment...\n",
              "2  fcotp0r  ebzqrl  /r/UCSD/comments/ebzqrl/ahhhhhhhwhyahhhhhhh/fc...\n",
              "3  fcove2d  ecj85u  /r/UCSD/comments/ecj85u/busy_successful_studen...\n",
              "4  fcq9mqp  edwqpd  /r/UCSD/comments/edwqpd/smash_ultimate_rainbow..."
            ],
            "text/html": [
              "\n",
              "  <div id=\"df-fe4b1ff9-703e-4554-88d5-77aa6a27a15b\" class=\"colab-df-container\">\n",
              "    <div>\n",
              "<style scoped>\n",
              "    .dataframe tbody tr th:only-of-type {\n",
              "        vertical-align: middle;\n",
              "    }\n",
              "\n",
              "    .dataframe tbody tr th {\n",
              "        vertical-align: top;\n",
              "    }\n",
              "\n",
              "    .dataframe thead th {\n",
              "        text-align: right;\n",
              "    }\n",
              "</style>\n",
              "<table border=\"1\" class=\"dataframe\">\n",
              "  <thead>\n",
              "    <tr style=\"text-align: right;\">\n",
              "      <th></th>\n",
              "      <th>id</th>\n",
              "      <th>post_id</th>\n",
              "      <th>post_link</th>\n",
              "    </tr>\n",
              "  </thead>\n",
              "  <tbody>\n",
              "    <tr>\n",
              "      <th>0</th>\n",
              "      <td>fm3iyf9</td>\n",
              "      <td>doqqcm</td>\n",
              "      <td>/r/UCSD/comments/doqqcm/ask_me_anything_about_...</td>\n",
              "    </tr>\n",
              "    <tr>\n",
              "      <th>1</th>\n",
              "      <td>fcsmguw</td>\n",
              "      <td>dqagex</td>\n",
              "      <td>/r/UCSD/comments/dqagex/winter_2020_enrollment...</td>\n",
              "    </tr>\n",
              "    <tr>\n",
              "      <th>2</th>\n",
              "      <td>fcotp0r</td>\n",
              "      <td>ebzqrl</td>\n",
              "      <td>/r/UCSD/comments/ebzqrl/ahhhhhhhwhyahhhhhhh/fc...</td>\n",
              "    </tr>\n",
              "    <tr>\n",
              "      <th>3</th>\n",
              "      <td>fcove2d</td>\n",
              "      <td>ecj85u</td>\n",
              "      <td>/r/UCSD/comments/ecj85u/busy_successful_studen...</td>\n",
              "    </tr>\n",
              "    <tr>\n",
              "      <th>4</th>\n",
              "      <td>fcq9mqp</td>\n",
              "      <td>edwqpd</td>\n",
              "      <td>/r/UCSD/comments/edwqpd/smash_ultimate_rainbow...</td>\n",
              "    </tr>\n",
              "  </tbody>\n",
              "</table>\n",
              "</div>\n",
              "    <div class=\"colab-df-buttons\">\n",
              "\n",
              "  <div class=\"colab-df-container\">\n",
              "    <button class=\"colab-df-convert\" onclick=\"convertToInteractive('df-fe4b1ff9-703e-4554-88d5-77aa6a27a15b')\"\n",
              "            title=\"Convert this dataframe to an interactive table.\"\n",
              "            style=\"display:none;\">\n",
              "\n",
              "  <svg xmlns=\"http://www.w3.org/2000/svg\" height=\"24px\" viewBox=\"0 -960 960 960\">\n",
              "    <path d=\"M120-120v-720h720v720H120Zm60-500h600v-160H180v160Zm220 220h160v-160H400v160Zm0 220h160v-160H400v160ZM180-400h160v-160H180v160Zm440 0h160v-160H620v160ZM180-180h160v-160H180v160Zm440 0h160v-160H620v160Z\"/>\n",
              "  </svg>\n",
              "    </button>\n",
              "\n",
              "  <style>\n",
              "    .colab-df-container {\n",
              "      display:flex;\n",
              "      gap: 12px;\n",
              "    }\n",
              "\n",
              "    .colab-df-convert {\n",
              "      background-color: #E8F0FE;\n",
              "      border: none;\n",
              "      border-radius: 50%;\n",
              "      cursor: pointer;\n",
              "      display: none;\n",
              "      fill: #1967D2;\n",
              "      height: 32px;\n",
              "      padding: 0 0 0 0;\n",
              "      width: 32px;\n",
              "    }\n",
              "\n",
              "    .colab-df-convert:hover {\n",
              "      background-color: #E2EBFA;\n",
              "      box-shadow: 0px 1px 2px rgba(60, 64, 67, 0.3), 0px 1px 3px 1px rgba(60, 64, 67, 0.15);\n",
              "      fill: #174EA6;\n",
              "    }\n",
              "\n",
              "    .colab-df-buttons div {\n",
              "      margin-bottom: 4px;\n",
              "    }\n",
              "\n",
              "    [theme=dark] .colab-df-convert {\n",
              "      background-color: #3B4455;\n",
              "      fill: #D2E3FC;\n",
              "    }\n",
              "\n",
              "    [theme=dark] .colab-df-convert:hover {\n",
              "      background-color: #434B5C;\n",
              "      box-shadow: 0px 1px 3px 1px rgba(0, 0, 0, 0.15);\n",
              "      filter: drop-shadow(0px 1px 2px rgba(0, 0, 0, 0.3));\n",
              "      fill: #FFFFFF;\n",
              "    }\n",
              "  </style>\n",
              "\n",
              "    <script>\n",
              "      const buttonEl =\n",
              "        document.querySelector('#df-fe4b1ff9-703e-4554-88d5-77aa6a27a15b button.colab-df-convert');\n",
              "      buttonEl.style.display =\n",
              "        google.colab.kernel.accessAllowed ? 'block' : 'none';\n",
              "\n",
              "      async function convertToInteractive(key) {\n",
              "        const element = document.querySelector('#df-fe4b1ff9-703e-4554-88d5-77aa6a27a15b');\n",
              "        const dataTable =\n",
              "          await google.colab.kernel.invokeFunction('convertToInteractive',\n",
              "                                                    [key], {});\n",
              "        if (!dataTable) return;\n",
              "\n",
              "        const docLinkHtml = 'Like what you see? Visit the ' +\n",
              "          '<a target=\"_blank\" href=https://colab.research.google.com/notebooks/data_table.ipynb>data table notebook</a>'\n",
              "          + ' to learn more about interactive tables.';\n",
              "        element.innerHTML = '';\n",
              "        dataTable['output_type'] = 'display_data';\n",
              "        await google.colab.output.renderOutput(dataTable, element);\n",
              "        const docLink = document.createElement('div');\n",
              "        docLink.innerHTML = docLinkHtml;\n",
              "        element.appendChild(docLink);\n",
              "      }\n",
              "    </script>\n",
              "  </div>\n",
              "\n",
              "\n",
              "<div id=\"df-c3e32117-30e8-41bf-be8b-b97581631664\">\n",
              "  <button class=\"colab-df-quickchart\" onclick=\"quickchart('df-c3e32117-30e8-41bf-be8b-b97581631664')\"\n",
              "            title=\"Suggest charts\"\n",
              "            style=\"display:none;\">\n",
              "\n",
              "<svg xmlns=\"http://www.w3.org/2000/svg\" height=\"24px\"viewBox=\"0 0 24 24\"\n",
              "     width=\"24px\">\n",
              "    <g>\n",
              "        <path d=\"M19 3H5c-1.1 0-2 .9-2 2v14c0 1.1.9 2 2 2h14c1.1 0 2-.9 2-2V5c0-1.1-.9-2-2-2zM9 17H7v-7h2v7zm4 0h-2V7h2v10zm4 0h-2v-4h2v4z\"/>\n",
              "    </g>\n",
              "</svg>\n",
              "  </button>\n",
              "\n",
              "<style>\n",
              "  .colab-df-quickchart {\n",
              "      --bg-color: #E8F0FE;\n",
              "      --fill-color: #1967D2;\n",
              "      --hover-bg-color: #E2EBFA;\n",
              "      --hover-fill-color: #174EA6;\n",
              "      --disabled-fill-color: #AAA;\n",
              "      --disabled-bg-color: #DDD;\n",
              "  }\n",
              "\n",
              "  [theme=dark] .colab-df-quickchart {\n",
              "      --bg-color: #3B4455;\n",
              "      --fill-color: #D2E3FC;\n",
              "      --hover-bg-color: #434B5C;\n",
              "      --hover-fill-color: #FFFFFF;\n",
              "      --disabled-bg-color: #3B4455;\n",
              "      --disabled-fill-color: #666;\n",
              "  }\n",
              "\n",
              "  .colab-df-quickchart {\n",
              "    background-color: var(--bg-color);\n",
              "    border: none;\n",
              "    border-radius: 50%;\n",
              "    cursor: pointer;\n",
              "    display: none;\n",
              "    fill: var(--fill-color);\n",
              "    height: 32px;\n",
              "    padding: 0;\n",
              "    width: 32px;\n",
              "  }\n",
              "\n",
              "  .colab-df-quickchart:hover {\n",
              "    background-color: var(--hover-bg-color);\n",
              "    box-shadow: 0 1px 2px rgba(60, 64, 67, 0.3), 0 1px 3px 1px rgba(60, 64, 67, 0.15);\n",
              "    fill: var(--button-hover-fill-color);\n",
              "  }\n",
              "\n",
              "  .colab-df-quickchart-complete:disabled,\n",
              "  .colab-df-quickchart-complete:disabled:hover {\n",
              "    background-color: var(--disabled-bg-color);\n",
              "    fill: var(--disabled-fill-color);\n",
              "    box-shadow: none;\n",
              "  }\n",
              "\n",
              "  .colab-df-spinner {\n",
              "    border: 2px solid var(--fill-color);\n",
              "    border-color: transparent;\n",
              "    border-bottom-color: var(--fill-color);\n",
              "    animation:\n",
              "      spin 1s steps(1) infinite;\n",
              "  }\n",
              "\n",
              "  @keyframes spin {\n",
              "    0% {\n",
              "      border-color: transparent;\n",
              "      border-bottom-color: var(--fill-color);\n",
              "      border-left-color: var(--fill-color);\n",
              "    }\n",
              "    20% {\n",
              "      border-color: transparent;\n",
              "      border-left-color: var(--fill-color);\n",
              "      border-top-color: var(--fill-color);\n",
              "    }\n",
              "    30% {\n",
              "      border-color: transparent;\n",
              "      border-left-color: var(--fill-color);\n",
              "      border-top-color: var(--fill-color);\n",
              "      border-right-color: var(--fill-color);\n",
              "    }\n",
              "    40% {\n",
              "      border-color: transparent;\n",
              "      border-right-color: var(--fill-color);\n",
              "      border-top-color: var(--fill-color);\n",
              "    }\n",
              "    60% {\n",
              "      border-color: transparent;\n",
              "      border-right-color: var(--fill-color);\n",
              "    }\n",
              "    80% {\n",
              "      border-color: transparent;\n",
              "      border-right-color: var(--fill-color);\n",
              "      border-bottom-color: var(--fill-color);\n",
              "    }\n",
              "    90% {\n",
              "      border-color: transparent;\n",
              "      border-bottom-color: var(--fill-color);\n",
              "    }\n",
              "  }\n",
              "</style>\n",
              "\n",
              "  <script>\n",
              "    async function quickchart(key) {\n",
              "      const quickchartButtonEl =\n",
              "        document.querySelector('#' + key + ' button');\n",
              "      quickchartButtonEl.disabled = true;  // To prevent multiple clicks.\n",
              "      quickchartButtonEl.classList.add('colab-df-spinner');\n",
              "      try {\n",
              "        const charts = await google.colab.kernel.invokeFunction(\n",
              "            'suggestCharts', [key], {});\n",
              "      } catch (error) {\n",
              "        console.error('Error during call to suggestCharts:', error);\n",
              "      }\n",
              "      quickchartButtonEl.classList.remove('colab-df-spinner');\n",
              "      quickchartButtonEl.classList.add('colab-df-quickchart-complete');\n",
              "    }\n",
              "    (() => {\n",
              "      let quickchartButtonEl =\n",
              "        document.querySelector('#df-c3e32117-30e8-41bf-be8b-b97581631664 button');\n",
              "      quickchartButtonEl.style.display =\n",
              "        google.colab.kernel.accessAllowed ? 'block' : 'none';\n",
              "    })();\n",
              "  </script>\n",
              "</div>\n",
              "\n",
              "    </div>\n",
              "  </div>\n"
            ],
            "application/vnd.google.colaboratory.intrinsic+json": {
              "type": "dataframe",
              "variable_name": "parents",
              "summary": "{\n  \"name\": \"parents\",\n  \"rows\": 67250,\n  \"fields\": [\n    {\n      \"column\": \"id\",\n      \"properties\": {\n        \"dtype\": \"string\",\n        \"num_unique_values\": 67250,\n        \"samples\": [\n          \"gbwbpxd\",\n          \"gxtsneq\",\n          \"fppxmqp\"\n        ],\n        \"semantic_type\": \"\",\n        \"description\": \"\"\n      }\n    },\n    {\n      \"column\": \"post_id\",\n      \"properties\": {\n        \"dtype\": \"category\",\n        \"num_unique_values\": 19431,\n        \"samples\": [\n          \"ho8eby\",\n          \"m7wldt\",\n          \"iz372q\"\n        ],\n        \"semantic_type\": \"\",\n        \"description\": \"\"\n      }\n    },\n    {\n      \"column\": \"post_link\",\n      \"properties\": {\n        \"dtype\": \"string\",\n        \"num_unique_values\": 67250,\n        \"samples\": [\n          \"/r/UCSD/comments/jrsouj/to_the_violin_guygirl_in_seventh/gbwbpxd/\",\n          \"/r/UCSD/comments/nadn5l/im_the_instructor_for_phil_90_understanding_evil/gxtsneq/\",\n          \"/r/UCSD/comments/gethd0/chem_6b_study_group/fppxmqp/\"\n        ],\n        \"semantic_type\": \"\",\n        \"description\": \"\"\n      }\n    }\n  ]\n}"
            }
          },
          "metadata": {},
          "execution_count": 6
        }
      ]
    },
    {
      "cell_type": "code",
      "source": [
        "# Create child_to_parent, parent_to_children dictionaries\n",
        "child_to_parent = defaultdict(str)\n",
        "parent_to_children = defaultdict(list)\n",
        "child_to_post = defaultdict(str)\n",
        "\n",
        "for i in range(dyad.shape[0]):\n",
        "  child = dyad['child_id'].iloc[i]\n",
        "  parent = dyad['parent_id'].iloc[i]\n",
        "  child_to_parent[child] = parent\n",
        "  parent_to_children[parent].append(child)\n",
        "  child_to_post[child] = dyad['post_id'].iloc[i]\n",
        "\n",
        "# Create root_to_post dictionary\n",
        "root_to_post = defaultdict(str)\n",
        "for j in range(parents.shape[0]):\n",
        "  root = parents['id'].iloc[j]\n",
        "  root_to_post[root] = parents['post_id'].iloc[j]\n"
      ],
      "metadata": {
        "id": "ETF5WvPAZpHN"
      },
      "execution_count": 7,
      "outputs": []
    },
    {
      "cell_type": "code",
      "source": [
        "# post_id to post_link\n",
        "id_to_link = defaultdict(str)\n",
        "for k in range(parents.shape[0]):\n",
        "  post = parents['post_id'].iloc[k]\n",
        "  id_to_link[post] = parents['post_link'].iloc[k]"
      ],
      "metadata": {
        "id": "cabT1RwcFiBM"
      },
      "execution_count": 36,
      "outputs": []
    },
    {
      "cell_type": "code",
      "source": [
        "# Any node that does not have a child is a leaf\n",
        "leaves = []\n",
        "for child in child_to_parent:\n",
        "  if child not in parent_to_children:\n",
        "    leaves.append(child)\n",
        "len(leaves)"
      ],
      "metadata": {
        "id": "NhUZrfJ6a_yC",
        "colab": {
          "base_uri": "https://localhost:8080/"
        },
        "outputId": "a4d7009a-9740-47a2-dd86-615e605cdeb5"
      },
      "execution_count": 8,
      "outputs": [
        {
          "output_type": "execute_result",
          "data": {
            "text/plain": [
              "32224"
            ]
          },
          "metadata": {},
          "execution_count": 8
        }
      ]
    },
    {
      "cell_type": "code",
      "source": [
        "# Root nodes are comments whose parent is the post (t3_) as opposed to another comment (t1_)\n",
        "roots = []\n",
        "for parent in parent_to_children:\n",
        "  if parent in root_to_post:\n",
        "    roots.append(parent)\n",
        "len(roots)"
      ],
      "metadata": {
        "id": "D_y4RCxZbMiQ",
        "colab": {
          "base_uri": "https://localhost:8080/"
        },
        "outputId": "402f24f5-049a-434e-d485-e3394a15d4de"
      },
      "execution_count": 9,
      "outputs": [
        {
          "output_type": "execute_result",
          "data": {
            "text/plain": [
              "22029"
            ]
          },
          "metadata": {},
          "execution_count": 9
        }
      ]
    },
    {
      "cell_type": "markdown",
      "source": [
        "# Bottom Up Approach\n",
        "O(l*h) where l is the number of leaves and h is the height of the tree"
      ],
      "metadata": {
        "id": "PY9_o2KLwy3E"
      }
    },
    {
      "cell_type": "code",
      "source": [
        "def leafToRoot(leaf):\n",
        "    path = []\n",
        "    currentNode = leaf\n",
        "    # Traverse through the tree until reaching the parent\n",
        "    while currentNode not in set(roots):\n",
        "        path.append(currentNode)\n",
        "        parent = child_to_parent[currentNode]\n",
        "        # Node does not have a parent yet is not a root\n",
        "        # This means the conversation chain was broken\n",
        "        # Return blank path, to be filtered out below\n",
        "        if not parent:\n",
        "          return []\n",
        "        # If node does have a parent, continue\n",
        "        currentNode = parent\n",
        "    # Add the root and post_id and reverse the path so that it is [post,root,...,leaf]\n",
        "    path.append(currentNode)\n",
        "    path.append(root_to_post[currentNode])\n",
        "    path.reverse()\n",
        "    return path\n"
      ],
      "metadata": {
        "id": "7d1x2Vp9nSMT"
      },
      "execution_count": 28,
      "outputs": []
    },
    {
      "cell_type": "code",
      "source": [
        "# This takes a second to run!\n",
        "# Find a leaf-to-root path for each leaf\n",
        "conversationsBottomUp = []\n",
        "for leaf in tqdm(leaves):\n",
        "  path = leafToRoot(leaf)\n",
        "  # If the length of the path is 0, then [] was returned\n",
        "  # We don't want to look at these\n",
        "  if len(path) > 0:\n",
        "    conversationsBottomUp.append(path)\n",
        "len(conversationsBottomUp)"
      ],
      "metadata": {
        "colab": {
          "base_uri": "https://localhost:8080/"
        },
        "collapsed": true,
        "id": "hG6Itm0EofFZ",
        "outputId": "6da63575-637c-44ab-b20e-3aee3bebcec0"
      },
      "execution_count": 29,
      "outputs": [
        {
          "output_type": "stream",
          "name": "stderr",
          "text": [
            "100%|██████████| 32224/32224 [03:22<00:00, 159.27it/s]\n"
          ]
        },
        {
          "output_type": "execute_result",
          "data": {
            "text/plain": [
              "29780"
            ]
          },
          "metadata": {},
          "execution_count": 29
        }
      ]
    },
    {
      "cell_type": "markdown",
      "source": [
        "# Top Down Approach\n",
        "O(r*n) where r is the number of roots and n is the number of nodes in the tree"
      ],
      "metadata": {
        "id": "FtWhc47OLL1J"
      }
    },
    {
      "cell_type": "code",
      "source": [
        "def rootToLeaf(currentNode, conversation, rootConvos):\n",
        "  conversation.append(currentNode)\n",
        "  # If the node is a leaf, we are at the end of the path!\n",
        "  # Add the path to the list of all paths for this root\n",
        "  if currentNode in leaves:\n",
        "    rootConvos.append(list(conversation))\n",
        "  # Otherwise, the node should have children\n",
        "  children = parent_to_children[currentNode]\n",
        "  # If it\n",
        "  if children:\n",
        "    # Recursion for each child\n",
        "    for child in children:\n",
        "      rootToLeaf(child, conversation, rootConvos)\n",
        "  # Go back up to the previous node\n",
        "  conversation.pop()\n",
        "\n",
        "# We want each path from a given root\n",
        "# This will return a list of all paths (also lists)\n",
        "def allPaths(root):\n",
        "  allPaths = []\n",
        "  rootToLeaf(root, [root_to_post[root]], allPaths)\n",
        "  return allPaths"
      ],
      "metadata": {
        "id": "UdmvfjAjTtzA"
      },
      "execution_count": 12,
      "outputs": []
    },
    {
      "cell_type": "code",
      "source": [
        "# Do this for every root\n",
        "conversationsTopDown = []\n",
        "for root in tqdm(roots):\n",
        "  # allPaths() returns a list of lists, which is why I am concatenating instead of appending\n",
        "  conversationsTopDown += allPaths(root)\n",
        "\n",
        "len(conversationsTopDown)"
      ],
      "metadata": {
        "colab": {
          "base_uri": "https://localhost:8080/"
        },
        "id": "g4RWwbY_Mg17",
        "outputId": "4ec9a45c-07a8-4e08-a8b6-983c4b8c82fc"
      },
      "execution_count": 15,
      "outputs": [
        {
          "output_type": "stream",
          "name": "stderr",
          "text": [
            "100%|██████████| 22029/22029 [00:48<00:00, 453.85it/s]\n"
          ]
        },
        {
          "output_type": "execute_result",
          "data": {
            "text/plain": [
              "29780"
            ]
          },
          "metadata": {},
          "execution_count": 15
        }
      ]
    },
    {
      "cell_type": "code",
      "source": [
        "# Yayyyyyy - both methods work!\n",
        "# i.e. each conversation identified follows post, root <-> ... <-> leaf structure\n",
        "# Broken chains are not included\n",
        "# Can choose either method, they both take about a minute to run\n",
        "sorted(conversationsTopDown)==sorted(conversationsBottomUp)"
      ],
      "metadata": {
        "id": "REYXkTK-w5cZ",
        "colab": {
          "base_uri": "https://localhost:8080/"
        },
        "outputId": "7f7fea97-9ec8-454b-f3a0-72f928c264dd"
      },
      "execution_count": 30,
      "outputs": [
        {
          "output_type": "execute_result",
          "data": {
            "text/plain": [
              "True"
            ]
          },
          "metadata": {},
          "execution_count": 30
        }
      ]
    },
    {
      "cell_type": "markdown",
      "source": [
        "# Save file"
      ],
      "metadata": {
        "id": "0eDekHNLALOP"
      }
    },
    {
      "cell_type": "code",
      "source": [
        "with open('ucsd_conversations.csv', mode='w', newline='') as file:\n",
        "    writer = csv.writer(file)\n",
        "    writer.writerows(conversationsTopDown)"
      ],
      "metadata": {
        "id": "0LFLUC6tAS-5"
      },
      "execution_count": 17,
      "outputs": []
    },
    {
      "cell_type": "code",
      "source": [
        "with open('ucsd_conversations.json', 'w') as file:\n",
        "    json.dump(conversationsTopDown, file)"
      ],
      "metadata": {
        "id": "-UgiKn9JFjRl"
      },
      "execution_count": 18,
      "outputs": []
    },
    {
      "cell_type": "markdown",
      "source": [
        "# Printing Conversations"
      ],
      "metadata": {
        "id": "x5xdwC92WE2j"
      }
    },
    {
      "cell_type": "code",
      "source": [
        "def getIndex(df,col,val):\n",
        "  return df.index[df[col]==val][0]"
      ],
      "metadata": {
        "id": "5YKI9ETic8gg"
      },
      "execution_count": 19,
      "outputs": []
    },
    {
      "cell_type": "code",
      "source": [
        "# This function assumes that the root is the first element in the list\n",
        "def list_to_conversation(lst):\n",
        "  # Print POST LINK\n",
        "  print('POST: reddit.com' + root_to_post[lst[0]])\n",
        "  # Print ROOT\n",
        "  count = 1\n",
        "  parentIndex = getIndex(dyad,'parent_id',lst[0])\n",
        "  print(count, ':',dyad['parent_content'][parentIndex])\n",
        "  # Print CHILDREN\n",
        "  for i in range(1,len(lst)):\n",
        "    count += 1\n",
        "    childIndex = getIndex(dyad,'child_id',lst[i])\n",
        "    print('\\n',count, ':',dyad['child_content'][childIndex])"
      ],
      "metadata": {
        "id": "CloUTdtFcJbp"
      },
      "execution_count": 20,
      "outputs": []
    },
    {
      "cell_type": "markdown",
      "source": [
        "# Deleted/Removed Comments"
      ],
      "metadata": {
        "id": "DnQvmI3VRpYr"
      }
    },
    {
      "cell_type": "code",
      "source": [
        "id_to_content = defaultdict(str)\n",
        "for i in range(dyad.shape[0]):\n",
        "  child = dyad['child_id'].iloc[i]\n",
        "  child_body = dyad['child_content'].iloc[i]\n",
        "  parent = dyad['parent_id'].iloc[i]\n",
        "  parent_body = dyad['parent_content'].iloc[i]\n",
        "  if child not in id_to_content:\n",
        "    id_to_content[child] = child_body\n",
        "  if parent not in id_to_content:\n",
        "    id_to_content[parent] = parent_body"
      ],
      "metadata": {
        "id": "mGc1TYYLRr2k"
      },
      "execution_count": 31,
      "outputs": []
    },
    {
      "cell_type": "code",
      "source": [
        "def convoToContent(conversation):\n",
        "  lst = []\n",
        "  post_id = conversation[0]\n",
        "  link = 'reddit.com' + id_to_link[post_id]\n",
        "  lst.append(link)\n",
        "  for i in range(1,len(conversation)):\n",
        "    lst.append(id_to_content[conversation[i]])\n",
        "  return lst"
      ],
      "metadata": {
        "id": "47oYkic0EtGO"
      },
      "execution_count": 47,
      "outputs": []
    },
    {
      "cell_type": "code",
      "source": [
        "def printConvo(conversation_words):\n",
        "  for comment in conversation_words:\n",
        "    print(comment,'\\n')"
      ],
      "metadata": {
        "id": "ZtscQWGzFJhy"
      },
      "execution_count": 38,
      "outputs": []
    },
    {
      "cell_type": "code",
      "source": [
        "for convo in conversationsTopDown:\n",
        "  for comment in convo:\n",
        "    content = id_to_content[comment]\n",
        "    if '[deleted]' in content or '[removed]' in content:\n",
        "      printConvo(convoToContent(convo))\n",
        "# The examples below aren't really what we are looking for\n",
        "# But it shows how the code works"
      ],
      "metadata": {
        "colab": {
          "base_uri": "https://localhost:8080/"
        },
        "id": "yBitKOr7TeS1",
        "outputId": "1c7ce49e-40a0-4c14-db2e-ebb0e6fb0014"
      },
      "execution_count": 49,
      "outputs": [
        {
          "output_type": "stream",
          "name": "stdout",
          "text": [
            "reddit.com/r/UCSD/comments/k8sur9/math_department_response_to_math_183_ezzati/gf14ikc/ \n",
            "\n",
            "This was posted on the class Piazza and the professor has [removed](https://i.imgur.com/hweNjef.png) it. \n",
            "\n",
            "Damn it was on there half an hour ago. She also made an announcement regarding it. \n",
            "\n",
            "Let’s see the screenshot! \n",
            "\n",
            "reddit.com/r/UCSD/comments/k8sur9/math_department_response_to_math_183_ezzati/gf14ikc/ \n",
            "\n",
            "This was posted on the class Piazza and the professor has [removed](https://i.imgur.com/hweNjef.png) it. \n",
            "\n",
            "Dear all,  \n",
            "We cannot allow any posts on Piazza that is not relevant to the course materials. Piazza is to discuss the course materials and course related announcements only. If any other questions/concerns - please consider using the office hours or direct email to address them first before posting on Piazza. Please understand majority of class are doing well and need to focus on their studies than being distracted.  \n",
            "All best,  \n",
            "Parinaz \n",
            "\n"
          ]
        }
      ]
    }
  ]
}